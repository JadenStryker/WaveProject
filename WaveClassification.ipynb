{
  "nbformat": 4,
  "nbformat_minor": 0,
  "metadata": {
    "colab": {
      "provenance": [],
      "machine_shape": "hm"
    },
    "kernelspec": {
      "name": "python3",
      "display_name": "Python 3"
    },
    "language_info": {
      "name": "python"
    },
    "gpuClass": "premium",
    "accelerator": "GPU"
  },
  "cells": [
    {
      "cell_type": "code",
      "source": [
        "!pip install pydub"
      ],
      "metadata": {
        "colab": {
          "base_uri": "https://localhost:8080/"
        },
        "id": "_Osci_-8UJeM",
        "outputId": "85794f55-0ccb-428a-fca6-acb79944f12c"
      },
      "execution_count": 2,
      "outputs": [
        {
          "output_type": "stream",
          "name": "stdout",
          "text": [
            "Looking in indexes: https://pypi.org/simple, https://us-python.pkg.dev/colab-wheels/public/simple/\n",
            "Requirement already satisfied: pydub in /usr/local/lib/python3.8/dist-packages (0.25.1)\n"
          ]
        }
      ]
    },
    {
      "cell_type": "code",
      "execution_count": 3,
      "metadata": {
        "id": "qDxB4aCtTha5"
      },
      "outputs": [],
      "source": [
        "import numpy as np\n",
        "import pandas as pd\n",
        "import matplotlib.pyplot as plt\n",
        "\n",
        "from scipy import signal\n",
        "from scipy.io import wavfile\n",
        "from pydub import AudioSegment\n",
        "from IPython.display import Audio, display\n",
        "from torch.utils.data import Dataset, DataLoader\n",
        "from sklearn.preprocessing import MultiLabelBinarizer\n",
        "\n",
        "import random\n",
        "import glob\n",
        "\n",
        "import torch\n",
        "import torch.nn as nn\n",
        "import torch.nn.functional as F"
      ]
    },
    {
      "cell_type": "code",
      "source": [
        "from google.colab import drive\n",
        "drive.mount('/content/drive')"
      ],
      "metadata": {
        "colab": {
          "base_uri": "https://localhost:8080/"
        },
        "id": "nH2WHHWeUC7X",
        "outputId": "a4a241e1-9fe1-439c-9bea-eda7c88f1077"
      },
      "execution_count": 4,
      "outputs": [
        {
          "output_type": "stream",
          "name": "stdout",
          "text": [
            "Drive already mounted at /content/drive; to attempt to forcibly remount, call drive.mount(\"/content/drive\", force_remount=True).\n"
          ]
        }
      ]
    },
    {
      "cell_type": "code",
      "source": [
        "def spectrogramify(instance, phase, nperseg=1000):\n",
        "    # instance: record name\n",
        "    # phase: train, val, or test\n",
        "    source = \"nsynth-\" + str(phase) + \"/audio/\" + str(instance) + \".wav\"\n",
        "    sample_rate, samples = wavfile.read(source)\n",
        "    frequencies, times, spectrogram = signal.stft(samples, fs=sample_rate, nperseg=nperseg)\n",
        "\n",
        "    return sample_rate, frequencies, times, spectrogram\n",
        "def show_spectro(times, frequencies, spectrogram):\n",
        "    f = plt.figure()\n",
        "    f.set_figwidth(5)\n",
        "    f.set_figheight(3)\n",
        "\n",
        "    plt.pcolormesh(times, frequencies, np.abs(spectrogram))\n",
        "    plt.ylabel('Frequency [Hz]')\n",
        "    plt.xlabel('Time [sec]')\n",
        "    plt.ylim([0, 2000])\n",
        "    plt.show()\n",
        "    \n",
        "def spectro_to_wav(spectrogram, sample_rate = 16000):\n",
        "    _, gen = signal.istft(spectrogram, sample_rate)\n",
        "    wavfile.write(\"output.wav\", sample_rate, gen.astype(np.int16))\n",
        "    return True\n",
        "\n",
        "def spectro_to_audio(spectrogram, sample_rate = 16000):\n",
        "    spectro_to_wav(spectrogram, sample_rate)\n",
        "    wav = \"output.wav\"\n",
        "    display(Audio(wav, autoplay=True))\n",
        "    \n",
        "def decompose_spect(y):\n",
        "    y_real = []\n",
        "    y_imag = []\n",
        "    for i in range(len(y)):\n",
        "        y_real.append(y[i].real)\n",
        "        y_imag.append(y[i].imag)\n",
        "    return np.array(y_real), np.array(y_imag)\n",
        "\n",
        "def recompose_spect(y_real, y_imag):\n",
        "    y = 1j*y_imag\n",
        "    y += y_real\n",
        "    return np.array(y)\n",
        "     \n"
      ],
      "metadata": {
        "id": "QsnXAB0235dK"
      },
      "execution_count": 7,
      "outputs": []
    },
    {
      "cell_type": "code",
      "source": [
        "%cd \"/content/drive/MyDrive/Colab Notebooks/Projects/\""
      ],
      "metadata": {
        "colab": {
          "base_uri": "https://localhost:8080/"
        },
        "id": "YoJU4tdYUmG_",
        "outputId": "da570a8a-9246-43df-a42a-eb2de23be29d"
      },
      "execution_count": 5,
      "outputs": [
        {
          "output_type": "stream",
          "name": "stdout",
          "text": [
            "/content/drive/MyDrive/Colab Notebooks/Projects\n"
          ]
        }
      ]
    },
    {
      "cell_type": "code",
      "source": [
        "df = pd.read_json(f\"nsynth-test/examples.json\", orient='index')\n",
        "df.head(5)"
      ],
      "metadata": {
        "colab": {
          "base_uri": "https://localhost:8080/",
          "height": 438
        },
        "id": "Ql-2iS2FUpMs",
        "outputId": "d5ba33fd-d286-4bc9-8753-87d8b0a1a8ba"
      },
      "execution_count": 6,
      "outputs": [
        {
          "output_type": "execute_result",
          "data": {
            "text/plain": [
              "                                                      qualities  pitch  \\\n",
              "bass_synthetic_068-049-025       [0, 1, 0, 0, 0, 0, 0, 0, 0, 0]     49   \n",
              "keyboard_electronic_001-021-127  [0, 0, 0, 0, 0, 0, 0, 0, 0, 0]     21   \n",
              "guitar_acoustic_010-066-100      [0, 0, 0, 0, 0, 0, 0, 0, 0, 0]     66   \n",
              "reed_acoustic_037-068-127        [0, 0, 0, 0, 0, 0, 0, 0, 1, 0]     68   \n",
              "flute_acoustic_002-077-100       [0, 0, 0, 0, 0, 0, 0, 0, 1, 0]     77   \n",
              "\n",
              "                                   note instrument_source_str  velocity  \\\n",
              "bass_synthetic_068-049-025       217499             synthetic        25   \n",
              "keyboard_electronic_001-021-127  299359            electronic       127   \n",
              "guitar_acoustic_010-066-100       72288              acoustic       100   \n",
              "reed_acoustic_037-068-127         22259              acoustic       127   \n",
              "flute_acoustic_002-077-100        72001              acoustic       100   \n",
              "\n",
              "                                          instrument_str  instrument  \\\n",
              "bass_synthetic_068-049-025            bass_synthetic_068         656   \n",
              "keyboard_electronic_001-021-127  keyboard_electronic_001          40   \n",
              "guitar_acoustic_010-066-100          guitar_acoustic_010         219   \n",
              "reed_acoustic_037-068-127              reed_acoustic_037         387   \n",
              "flute_acoustic_002-077-100            flute_acoustic_002          86   \n",
              "\n",
              "                                 sample_rate qualities_str  instrument_source  \\\n",
              "bass_synthetic_068-049-025             16000        [dark]                  2   \n",
              "keyboard_electronic_001-021-127        16000            []                  1   \n",
              "guitar_acoustic_010-066-100            16000            []                  0   \n",
              "reed_acoustic_037-068-127              16000      [reverb]                  0   \n",
              "flute_acoustic_002-077-100             16000      [reverb]                  0   \n",
              "\n",
              "                                                        note_str  \\\n",
              "bass_synthetic_068-049-025            bass_synthetic_068-049-025   \n",
              "keyboard_electronic_001-021-127  keyboard_electronic_001-021-127   \n",
              "guitar_acoustic_010-066-100          guitar_acoustic_010-066-100   \n",
              "reed_acoustic_037-068-127              reed_acoustic_037-068-127   \n",
              "flute_acoustic_002-077-100            flute_acoustic_002-077-100   \n",
              "\n",
              "                                 instrument_family instrument_family_str  \n",
              "bass_synthetic_068-049-025                       0                  bass  \n",
              "keyboard_electronic_001-021-127                  4              keyboard  \n",
              "guitar_acoustic_010-066-100                      3                guitar  \n",
              "reed_acoustic_037-068-127                        7                  reed  \n",
              "flute_acoustic_002-077-100                       2                 flute  "
            ],
            "text/html": [
              "\n",
              "  <div id=\"df-f46f8221-79a4-4e02-be9b-e581ae58252f\">\n",
              "    <div class=\"colab-df-container\">\n",
              "      <div>\n",
              "<style scoped>\n",
              "    .dataframe tbody tr th:only-of-type {\n",
              "        vertical-align: middle;\n",
              "    }\n",
              "\n",
              "    .dataframe tbody tr th {\n",
              "        vertical-align: top;\n",
              "    }\n",
              "\n",
              "    .dataframe thead th {\n",
              "        text-align: right;\n",
              "    }\n",
              "</style>\n",
              "<table border=\"1\" class=\"dataframe\">\n",
              "  <thead>\n",
              "    <tr style=\"text-align: right;\">\n",
              "      <th></th>\n",
              "      <th>qualities</th>\n",
              "      <th>pitch</th>\n",
              "      <th>note</th>\n",
              "      <th>instrument_source_str</th>\n",
              "      <th>velocity</th>\n",
              "      <th>instrument_str</th>\n",
              "      <th>instrument</th>\n",
              "      <th>sample_rate</th>\n",
              "      <th>qualities_str</th>\n",
              "      <th>instrument_source</th>\n",
              "      <th>note_str</th>\n",
              "      <th>instrument_family</th>\n",
              "      <th>instrument_family_str</th>\n",
              "    </tr>\n",
              "  </thead>\n",
              "  <tbody>\n",
              "    <tr>\n",
              "      <th>bass_synthetic_068-049-025</th>\n",
              "      <td>[0, 1, 0, 0, 0, 0, 0, 0, 0, 0]</td>\n",
              "      <td>49</td>\n",
              "      <td>217499</td>\n",
              "      <td>synthetic</td>\n",
              "      <td>25</td>\n",
              "      <td>bass_synthetic_068</td>\n",
              "      <td>656</td>\n",
              "      <td>16000</td>\n",
              "      <td>[dark]</td>\n",
              "      <td>2</td>\n",
              "      <td>bass_synthetic_068-049-025</td>\n",
              "      <td>0</td>\n",
              "      <td>bass</td>\n",
              "    </tr>\n",
              "    <tr>\n",
              "      <th>keyboard_electronic_001-021-127</th>\n",
              "      <td>[0, 0, 0, 0, 0, 0, 0, 0, 0, 0]</td>\n",
              "      <td>21</td>\n",
              "      <td>299359</td>\n",
              "      <td>electronic</td>\n",
              "      <td>127</td>\n",
              "      <td>keyboard_electronic_001</td>\n",
              "      <td>40</td>\n",
              "      <td>16000</td>\n",
              "      <td>[]</td>\n",
              "      <td>1</td>\n",
              "      <td>keyboard_electronic_001-021-127</td>\n",
              "      <td>4</td>\n",
              "      <td>keyboard</td>\n",
              "    </tr>\n",
              "    <tr>\n",
              "      <th>guitar_acoustic_010-066-100</th>\n",
              "      <td>[0, 0, 0, 0, 0, 0, 0, 0, 0, 0]</td>\n",
              "      <td>66</td>\n",
              "      <td>72288</td>\n",
              "      <td>acoustic</td>\n",
              "      <td>100</td>\n",
              "      <td>guitar_acoustic_010</td>\n",
              "      <td>219</td>\n",
              "      <td>16000</td>\n",
              "      <td>[]</td>\n",
              "      <td>0</td>\n",
              "      <td>guitar_acoustic_010-066-100</td>\n",
              "      <td>3</td>\n",
              "      <td>guitar</td>\n",
              "    </tr>\n",
              "    <tr>\n",
              "      <th>reed_acoustic_037-068-127</th>\n",
              "      <td>[0, 0, 0, 0, 0, 0, 0, 0, 1, 0]</td>\n",
              "      <td>68</td>\n",
              "      <td>22259</td>\n",
              "      <td>acoustic</td>\n",
              "      <td>127</td>\n",
              "      <td>reed_acoustic_037</td>\n",
              "      <td>387</td>\n",
              "      <td>16000</td>\n",
              "      <td>[reverb]</td>\n",
              "      <td>0</td>\n",
              "      <td>reed_acoustic_037-068-127</td>\n",
              "      <td>7</td>\n",
              "      <td>reed</td>\n",
              "    </tr>\n",
              "    <tr>\n",
              "      <th>flute_acoustic_002-077-100</th>\n",
              "      <td>[0, 0, 0, 0, 0, 0, 0, 0, 1, 0]</td>\n",
              "      <td>77</td>\n",
              "      <td>72001</td>\n",
              "      <td>acoustic</td>\n",
              "      <td>100</td>\n",
              "      <td>flute_acoustic_002</td>\n",
              "      <td>86</td>\n",
              "      <td>16000</td>\n",
              "      <td>[reverb]</td>\n",
              "      <td>0</td>\n",
              "      <td>flute_acoustic_002-077-100</td>\n",
              "      <td>2</td>\n",
              "      <td>flute</td>\n",
              "    </tr>\n",
              "  </tbody>\n",
              "</table>\n",
              "</div>\n",
              "      <button class=\"colab-df-convert\" onclick=\"convertToInteractive('df-f46f8221-79a4-4e02-be9b-e581ae58252f')\"\n",
              "              title=\"Convert this dataframe to an interactive table.\"\n",
              "              style=\"display:none;\">\n",
              "        \n",
              "  <svg xmlns=\"http://www.w3.org/2000/svg\" height=\"24px\"viewBox=\"0 0 24 24\"\n",
              "       width=\"24px\">\n",
              "    <path d=\"M0 0h24v24H0V0z\" fill=\"none\"/>\n",
              "    <path d=\"M18.56 5.44l.94 2.06.94-2.06 2.06-.94-2.06-.94-.94-2.06-.94 2.06-2.06.94zm-11 1L8.5 8.5l.94-2.06 2.06-.94-2.06-.94L8.5 2.5l-.94 2.06-2.06.94zm10 10l.94 2.06.94-2.06 2.06-.94-2.06-.94-.94-2.06-.94 2.06-2.06.94z\"/><path d=\"M17.41 7.96l-1.37-1.37c-.4-.4-.92-.59-1.43-.59-.52 0-1.04.2-1.43.59L10.3 9.45l-7.72 7.72c-.78.78-.78 2.05 0 2.83L4 21.41c.39.39.9.59 1.41.59.51 0 1.02-.2 1.41-.59l7.78-7.78 2.81-2.81c.8-.78.8-2.07 0-2.86zM5.41 20L4 18.59l7.72-7.72 1.47 1.35L5.41 20z\"/>\n",
              "  </svg>\n",
              "      </button>\n",
              "      \n",
              "  <style>\n",
              "    .colab-df-container {\n",
              "      display:flex;\n",
              "      flex-wrap:wrap;\n",
              "      gap: 12px;\n",
              "    }\n",
              "\n",
              "    .colab-df-convert {\n",
              "      background-color: #E8F0FE;\n",
              "      border: none;\n",
              "      border-radius: 50%;\n",
              "      cursor: pointer;\n",
              "      display: none;\n",
              "      fill: #1967D2;\n",
              "      height: 32px;\n",
              "      padding: 0 0 0 0;\n",
              "      width: 32px;\n",
              "    }\n",
              "\n",
              "    .colab-df-convert:hover {\n",
              "      background-color: #E2EBFA;\n",
              "      box-shadow: 0px 1px 2px rgba(60, 64, 67, 0.3), 0px 1px 3px 1px rgba(60, 64, 67, 0.15);\n",
              "      fill: #174EA6;\n",
              "    }\n",
              "\n",
              "    [theme=dark] .colab-df-convert {\n",
              "      background-color: #3B4455;\n",
              "      fill: #D2E3FC;\n",
              "    }\n",
              "\n",
              "    [theme=dark] .colab-df-convert:hover {\n",
              "      background-color: #434B5C;\n",
              "      box-shadow: 0px 1px 3px 1px rgba(0, 0, 0, 0.15);\n",
              "      filter: drop-shadow(0px 1px 2px rgba(0, 0, 0, 0.3));\n",
              "      fill: #FFFFFF;\n",
              "    }\n",
              "  </style>\n",
              "\n",
              "      <script>\n",
              "        const buttonEl =\n",
              "          document.querySelector('#df-f46f8221-79a4-4e02-be9b-e581ae58252f button.colab-df-convert');\n",
              "        buttonEl.style.display =\n",
              "          google.colab.kernel.accessAllowed ? 'block' : 'none';\n",
              "\n",
              "        async function convertToInteractive(key) {\n",
              "          const element = document.querySelector('#df-f46f8221-79a4-4e02-be9b-e581ae58252f');\n",
              "          const dataTable =\n",
              "            await google.colab.kernel.invokeFunction('convertToInteractive',\n",
              "                                                     [key], {});\n",
              "          if (!dataTable) return;\n",
              "\n",
              "          const docLinkHtml = 'Like what you see? Visit the ' +\n",
              "            '<a target=\"_blank\" href=https://colab.research.google.com/notebooks/data_table.ipynb>data table notebook</a>'\n",
              "            + ' to learn more about interactive tables.';\n",
              "          element.innerHTML = '';\n",
              "          dataTable['output_type'] = 'display_data';\n",
              "          await google.colab.output.renderOutput(dataTable, element);\n",
              "          const docLink = document.createElement('div');\n",
              "          docLink.innerHTML = docLinkHtml;\n",
              "          element.appendChild(docLink);\n",
              "        }\n",
              "      </script>\n",
              "    </div>\n",
              "  </div>\n",
              "  "
            ]
          },
          "metadata": {},
          "execution_count": 6
        }
      ]
    },
    {
      "cell_type": "code",
      "source": [
        "df.instrument_source_str.value_counts()\n",
        "x = df.instrument_source_str.value_counts()\n",
        "plt.bar(x.index, x.values, color='r')\n",
        "plt.ylabel('count')\n",
        "plt.xlabel('type of instrument noise')"
      ],
      "metadata": {
        "colab": {
          "base_uri": "https://localhost:8080/",
          "height": 296
        },
        "id": "6Zgye2leZgLw",
        "outputId": "dbf501f1-03cd-4a4f-f5c2-940ed43df9dd"
      },
      "execution_count": 7,
      "outputs": [
        {
          "output_type": "execute_result",
          "data": {
            "text/plain": [
              "Text(0.5, 0, 'type of instrument noise')"
            ]
          },
          "metadata": {},
          "execution_count": 7
        },
        {
          "output_type": "display_data",
          "data": {
            "text/plain": [
              "<Figure size 432x288 with 1 Axes>"
            ],
            "image/png": "[encoded data removed]"
          },
          "metadata": {
            "needs_background": "light"
          }
        }
      ]
    },
    {
      "cell_type": "code",
      "source": [
        "d_ = {'synthetic':0, 'electronic':1, 'acoustic':2}\n",
        "d = {v: k for k, v in d_.items()} \n",
        "d"
      ],
      "metadata": {
        "colab": {
          "base_uri": "https://localhost:8080/"
        },
        "id": "rVdKzlvUfZN_",
        "outputId": "603ab1d6-fa77-469d-c5f7-be307ab8c9ff"
      },
      "execution_count": 8,
      "outputs": [
        {
          "output_type": "execute_result",
          "data": {
            "text/plain": [
              "{0: 'synthetic', 1: 'electronic', 2: 'acoustic'}"
            ]
          },
          "metadata": {},
          "execution_count": 8
        }
      ]
    },
    {
      "cell_type": "code",
      "source": [
        "df.instrument_source_str = df.instrument_source_str.replace({'synthetic':0, 'electronic':1, 'acoustic':2})\n",
        "df"
      ],
      "metadata": {
        "colab": {
          "base_uri": "https://localhost:8080/",
          "height": 823
        },
        "id": "OX54tXyPU6DK",
        "outputId": "5e9ca465-17a5-436c-f9da-7d41ff7beb48"
      },
      "execution_count": 9,
      "outputs": [
        {
          "output_type": "execute_result",
          "data": {
            "text/plain": [
              "                                                      qualities  pitch  \\\n",
              "bass_synthetic_068-049-025       [0, 1, 0, 0, 0, 0, 0, 0, 0, 0]     49   \n",
              "keyboard_electronic_001-021-127  [0, 0, 0, 0, 0, 0, 0, 0, 0, 0]     21   \n",
              "guitar_acoustic_010-066-100      [0, 0, 0, 0, 0, 0, 0, 0, 0, 0]     66   \n",
              "reed_acoustic_037-068-127        [0, 0, 0, 0, 0, 0, 0, 0, 1, 0]     68   \n",
              "flute_acoustic_002-077-100       [0, 0, 0, 0, 0, 0, 0, 0, 1, 0]     77   \n",
              "...                                                         ...    ...   \n",
              "brass_acoustic_006-088-075       [0, 0, 0, 0, 0, 0, 0, 0, 1, 0]     88   \n",
              "organ_electronic_028-044-100     [0, 1, 0, 0, 0, 0, 0, 0, 0, 0]     44   \n",
              "string_acoustic_071-027-127      [0, 0, 0, 0, 1, 0, 0, 0, 1, 0]     27   \n",
              "string_acoustic_057-063-127      [1, 0, 0, 0, 0, 0, 1, 0, 1, 0]     63   \n",
              "bass_synthetic_009-058-025       [1, 0, 1, 0, 1, 0, 0, 0, 0, 0]     58   \n",
              "\n",
              "                                   note  instrument_source_str  velocity  \\\n",
              "bass_synthetic_068-049-025       217499                      0        25   \n",
              "keyboard_electronic_001-021-127  299359                      1       127   \n",
              "guitar_acoustic_010-066-100       72288                      2       100   \n",
              "reed_acoustic_037-068-127         22259                      2       127   \n",
              "flute_acoustic_002-077-100        72001                      2       100   \n",
              "...                                 ...                    ...       ...   \n",
              "brass_acoustic_006-088-075        35344                      2        75   \n",
              "organ_electronic_028-044-100     187148                      1       100   \n",
              "string_acoustic_071-027-127      114253                      2       127   \n",
              "string_acoustic_057-063-127       58959                      2       127   \n",
              "bass_synthetic_009-058-025       250574                      0        25   \n",
              "\n",
              "                                          instrument_str  instrument  \\\n",
              "bass_synthetic_068-049-025            bass_synthetic_068         656   \n",
              "keyboard_electronic_001-021-127  keyboard_electronic_001          40   \n",
              "guitar_acoustic_010-066-100          guitar_acoustic_010         219   \n",
              "reed_acoustic_037-068-127              reed_acoustic_037         387   \n",
              "flute_acoustic_002-077-100            flute_acoustic_002          86   \n",
              "...                                                  ...         ...   \n",
              "brass_acoustic_006-088-075            brass_acoustic_006          43   \n",
              "organ_electronic_028-044-100        organ_electronic_028         440   \n",
              "string_acoustic_071-027-127          string_acoustic_071         609   \n",
              "string_acoustic_057-063-127          string_acoustic_057         450   \n",
              "bass_synthetic_009-058-025            bass_synthetic_009         150   \n",
              "\n",
              "                                 sample_rate  \\\n",
              "bass_synthetic_068-049-025             16000   \n",
              "keyboard_electronic_001-021-127        16000   \n",
              "guitar_acoustic_010-066-100            16000   \n",
              "reed_acoustic_037-068-127              16000   \n",
              "flute_acoustic_002-077-100             16000   \n",
              "...                                      ...   \n",
              "brass_acoustic_006-088-075             16000   \n",
              "organ_electronic_028-044-100           16000   \n",
              "string_acoustic_071-027-127            16000   \n",
              "string_acoustic_057-063-127            16000   \n",
              "bass_synthetic_009-058-025             16000   \n",
              "\n",
              "                                                      qualities_str  \\\n",
              "bass_synthetic_068-049-025                                   [dark]   \n",
              "keyboard_electronic_001-021-127                                  []   \n",
              "guitar_acoustic_010-066-100                                      []   \n",
              "reed_acoustic_037-068-127                                  [reverb]   \n",
              "flute_acoustic_002-077-100                                 [reverb]   \n",
              "...                                                             ...   \n",
              "brass_acoustic_006-088-075                                 [reverb]   \n",
              "organ_electronic_028-044-100                                 [dark]   \n",
              "string_acoustic_071-027-127                  [long_release, reverb]   \n",
              "string_acoustic_057-063-127         [bright, nonlinear_env, reverb]   \n",
              "bass_synthetic_009-058-025       [bright, distortion, long_release]   \n",
              "\n",
              "                                 instrument_source  \\\n",
              "bass_synthetic_068-049-025                       2   \n",
              "keyboard_electronic_001-021-127                  1   \n",
              "guitar_acoustic_010-066-100                      0   \n",
              "reed_acoustic_037-068-127                        0   \n",
              "flute_acoustic_002-077-100                       0   \n",
              "...                                            ...   \n",
              "brass_acoustic_006-088-075                       0   \n",
              "organ_electronic_028-044-100                     1   \n",
              "string_acoustic_071-027-127                      0   \n",
              "string_acoustic_057-063-127                      0   \n",
              "bass_synthetic_009-058-025                       2   \n",
              "\n",
              "                                                        note_str  \\\n",
              "bass_synthetic_068-049-025            bass_synthetic_068-049-025   \n",
              "keyboard_electronic_001-021-127  keyboard_electronic_001-021-127   \n",
              "guitar_acoustic_010-066-100          guitar_acoustic_010-066-100   \n",
              "reed_acoustic_037-068-127              reed_acoustic_037-068-127   \n",
              "flute_acoustic_002-077-100            flute_acoustic_002-077-100   \n",
              "...                                                          ...   \n",
              "brass_acoustic_006-088-075            brass_acoustic_006-088-075   \n",
              "organ_electronic_028-044-100        organ_electronic_028-044-100   \n",
              "string_acoustic_071-027-127          string_acoustic_071-027-127   \n",
              "string_acoustic_057-063-127          string_acoustic_057-063-127   \n",
              "bass_synthetic_009-058-025            bass_synthetic_009-058-025   \n",
              "\n",
              "                                 instrument_family instrument_family_str  \n",
              "bass_synthetic_068-049-025                       0                  bass  \n",
              "keyboard_electronic_001-021-127                  4              keyboard  \n",
              "guitar_acoustic_010-066-100                      3                guitar  \n",
              "reed_acoustic_037-068-127                        7                  reed  \n",
              "flute_acoustic_002-077-100                       2                 flute  \n",
              "...                                            ...                   ...  \n",
              "brass_acoustic_006-088-075                       1                 brass  \n",
              "organ_electronic_028-044-100                     6                 organ  \n",
              "string_acoustic_071-027-127                      8                string  \n",
              "string_acoustic_057-063-127                      8                string  \n",
              "bass_synthetic_009-058-025                       0                  bass  \n",
              "\n",
              "[4096 rows x 13 columns]"
            ],
            "text/html": [
              "\n",
              "  <div id=\"df-72ad130f-b0d9-4127-8b2c-3a9b55345add\">\n",
              "    <div class=\"colab-df-container\">\n",
              "      <div>\n",
              "<style scoped>\n",
              "    .dataframe tbody tr th:only-of-type {\n",
              "        vertical-align: middle;\n",
              "    }\n",
              "\n",
              "    .dataframe tbody tr th {\n",
              "        vertical-align: top;\n",
              "    }\n",
              "\n",
              "    .dataframe thead th {\n",
              "        text-align: right;\n",
              "    }\n",
              "</style>\n",
              "<table border=\"1\" class=\"dataframe\">\n",
              "  <thead>\n",
              "    <tr style=\"text-align: right;\">\n",
              "      <th></th>\n",
              "      <th>qualities</th>\n",
              "      <th>pitch</th>\n",
              "      <th>note</th>\n",
              "      <th>instrument_source_str</th>\n",
              "      <th>velocity</th>\n",
              "      <th>instrument_str</th>\n",
              "      <th>instrument</th>\n",
              "      <th>sample_rate</th>\n",
              "      <th>qualities_str</th>\n",
              "      <th>instrument_source</th>\n",
              "      <th>note_str</th>\n",
              "      <th>instrument_family</th>\n",
              "      <th>instrument_family_str</th>\n",
              "    </tr>\n",
              "  </thead>\n",
              "  <tbody>\n",
              "    <tr>\n",
              "      <th>bass_synthetic_068-049-025</th>\n",
              "      <td>[0, 1, 0, 0, 0, 0, 0, 0, 0, 0]</td>\n",
              "      <td>49</td>\n",
              "      <td>217499</td>\n",
              "      <td>0</td>\n",
              "      <td>25</td>\n",
              "      <td>bass_synthetic_068</td>\n",
              "      <td>656</td>\n",
              "      <td>16000</td>\n",
              "      <td>[dark]</td>\n",
              "      <td>2</td>\n",
              "      <td>bass_synthetic_068-049-025</td>\n",
              "      <td>0</td>\n",
              "      <td>bass</td>\n",
              "    </tr>\n",
              "    <tr>\n",
              "      <th>keyboard_electronic_001-021-127</th>\n",
              "      <td>[0, 0, 0, 0, 0, 0, 0, 0, 0, 0]</td>\n",
              "      <td>21</td>\n",
              "      <td>299359</td>\n",
              "      <td>1</td>\n",
              "      <td>127</td>\n",
              "      <td>keyboard_electronic_001</td>\n",
              "      <td>40</td>\n",
              "      <td>16000</td>\n",
              "      <td>[]</td>\n",
              "      <td>1</td>\n",
              "      <td>keyboard_electronic_001-021-127</td>\n",
              "      <td>4</td>\n",
              "      <td>keyboard</td>\n",
              "    </tr>\n",
              "    <tr>\n",
              "      <th>guitar_acoustic_010-066-100</th>\n",
              "      <td>[0, 0, 0, 0, 0, 0, 0, 0, 0, 0]</td>\n",
              "      <td>66</td>\n",
              "      <td>72288</td>\n",
              "      <td>2</td>\n",
              "      <td>100</td>\n",
              "      <td>guitar_acoustic_010</td>\n",
              "      <td>219</td>\n",
              "      <td>16000</td>\n",
              "      <td>[]</td>\n",
              "      <td>0</td>\n",
              "      <td>guitar_acoustic_010-066-100</td>\n",
              "      <td>3</td>\n",
              "      <td>guitar</td>\n",
              "    </tr>\n",
              "    <tr>\n",
              "      <th>reed_acoustic_037-068-127</th>\n",
              "      <td>[0, 0, 0, 0, 0, 0, 0, 0, 1, 0]</td>\n",
              "      <td>68</td>\n",
              "      <td>22259</td>\n",
              "      <td>2</td>\n",
              "      <td>127</td>\n",
              "      <td>reed_acoustic_037</td>\n",
              "      <td>387</td>\n",
              "      <td>16000</td>\n",
              "      <td>[reverb]</td>\n",
              "      <td>0</td>\n",
              "      <td>reed_acoustic_037-068-127</td>\n",
              "      <td>7</td>\n",
              "      <td>reed</td>\n",
              "    </tr>\n",
              "    <tr>\n",
              "      <th>flute_acoustic_002-077-100</th>\n",
              "      <td>[0, 0, 0, 0, 0, 0, 0, 0, 1, 0]</td>\n",
              "      <td>77</td>\n",
              "      <td>72001</td>\n",
              "      <td>2</td>\n",
              "      <td>100</td>\n",
              "      <td>flute_acoustic_002</td>\n",
              "      <td>86</td>\n",
              "      <td>16000</td>\n",
              "      <td>[reverb]</td>\n",
              "      <td>0</td>\n",
              "      <td>flute_acoustic_002-077-100</td>\n",
              "      <td>2</td>\n",
              "      <td>flute</td>\n",
              "    </tr>\n",
              "    <tr>\n",
              "      <th>...</th>\n",
              "      <td>...</td>\n",
              "      <td>...</td>\n",
              "      <td>...</td>\n",
              "      <td>...</td>\n",
              "      <td>...</td>\n",
              "      <td>...</td>\n",
              "      <td>...</td>\n",
              "      <td>...</td>\n",
              "      <td>...</td>\n",
              "      <td>...</td>\n",
              "      <td>...</td>\n",
              "      <td>...</td>\n",
              "      <td>...</td>\n",
              "    </tr>\n",
              "    <tr>\n",
              "      <th>brass_acoustic_006-088-075</th>\n",
              "      <td>[0, 0, 0, 0, 0, 0, 0, 0, 1, 0]</td>\n",
              "      <td>88</td>\n",
              "      <td>35344</td>\n",
              "      <td>2</td>\n",
              "      <td>75</td>\n",
              "      <td>brass_acoustic_006</td>\n",
              "      <td>43</td>\n",
              "      <td>16000</td>\n",
              "      <td>[reverb]</td>\n",
              "      <td>0</td>\n",
              "      <td>brass_acoustic_006-088-075</td>\n",
              "      <td>1</td>\n",
              "      <td>brass</td>\n",
              "    </tr>\n",
              "    <tr>\n",
              "      <th>organ_electronic_028-044-100</th>\n",
              "      <td>[0, 1, 0, 0, 0, 0, 0, 0, 0, 0]</td>\n",
              "      <td>44</td>\n",
              "      <td>187148</td>\n",
              "      <td>1</td>\n",
              "      <td>100</td>\n",
              "      <td>organ_electronic_028</td>\n",
              "      <td>440</td>\n",
              "      <td>16000</td>\n",
              "      <td>[dark]</td>\n",
              "      <td>1</td>\n",
              "      <td>organ_electronic_028-044-100</td>\n",
              "      <td>6</td>\n",
              "      <td>organ</td>\n",
              "    </tr>\n",
              "    <tr>\n",
              "      <th>string_acoustic_071-027-127</th>\n",
              "      <td>[0, 0, 0, 0, 1, 0, 0, 0, 1, 0]</td>\n",
              "      <td>27</td>\n",
              "      <td>114253</td>\n",
              "      <td>2</td>\n",
              "      <td>127</td>\n",
              "      <td>string_acoustic_071</td>\n",
              "      <td>609</td>\n",
              "      <td>16000</td>\n",
              "      <td>[long_release, reverb]</td>\n",
              "      <td>0</td>\n",
              "      <td>string_acoustic_071-027-127</td>\n",
              "      <td>8</td>\n",
              "      <td>string</td>\n",
              "    </tr>\n",
              "    <tr>\n",
              "      <th>string_acoustic_057-063-127</th>\n",
              "      <td>[1, 0, 0, 0, 0, 0, 1, 0, 1, 0]</td>\n",
              "      <td>63</td>\n",
              "      <td>58959</td>\n",
              "      <td>2</td>\n",
              "      <td>127</td>\n",
              "      <td>string_acoustic_057</td>\n",
              "      <td>450</td>\n",
              "      <td>16000</td>\n",
              "      <td>[bright, nonlinear_env, reverb]</td>\n",
              "      <td>0</td>\n",
              "      <td>string_acoustic_057-063-127</td>\n",
              "      <td>8</td>\n",
              "      <td>string</td>\n",
              "    </tr>\n",
              "    <tr>\n",
              "      <th>bass_synthetic_009-058-025</th>\n",
              "      <td>[1, 0, 1, 0, 1, 0, 0, 0, 0, 0]</td>\n",
              "      <td>58</td>\n",
              "      <td>250574</td>\n",
              "      <td>0</td>\n",
              "      <td>25</td>\n",
              "      <td>bass_synthetic_009</td>\n",
              "      <td>150</td>\n",
              "      <td>16000</td>\n",
              "      <td>[bright, distortion, long_release]</td>\n",
              "      <td>2</td>\n",
              "      <td>bass_synthetic_009-058-025</td>\n",
              "      <td>0</td>\n",
              "      <td>bass</td>\n",
              "    </tr>\n",
              "  </tbody>\n",
              "</table>\n",
              "<p>4096 rows × 13 columns</p>\n",
              "</div>\n",
              "      <button class=\"colab-df-convert\" onclick=\"convertToInteractive('df-72ad130f-b0d9-4127-8b2c-3a9b55345add')\"\n",
              "              title=\"Convert this dataframe to an interactive table.\"\n",
              "              style=\"display:none;\">\n",
              "        \n",
              "  <svg xmlns=\"http://www.w3.org/2000/svg\" height=\"24px\"viewBox=\"0 0 24 24\"\n",
              "       width=\"24px\">\n",
              "    <path d=\"M0 0h24v24H0V0z\" fill=\"none\"/>\n",
              "    <path d=\"M18.56 5.44l.94 2.06.94-2.06 2.06-.94-2.06-.94-.94-2.06-.94 2.06-2.06.94zm-11 1L8.5 8.5l.94-2.06 2.06-.94-2.06-.94L8.5 2.5l-.94 2.06-2.06.94zm10 10l.94 2.06.94-2.06 2.06-.94-2.06-.94-.94-2.06-.94 2.06-2.06.94z\"/><path d=\"M17.41 7.96l-1.37-1.37c-.4-.4-.92-.59-1.43-.59-.52 0-1.04.2-1.43.59L10.3 9.45l-7.72 7.72c-.78.78-.78 2.05 0 2.83L4 21.41c.39.39.9.59 1.41.59.51 0 1.02-.2 1.41-.59l7.78-7.78 2.81-2.81c.8-.78.8-2.07 0-2.86zM5.41 20L4 18.59l7.72-7.72 1.47 1.35L5.41 20z\"/>\n",
              "  </svg>\n",
              "      </button>\n",
              "      \n",
              "  <style>\n",
              "    .colab-df-container {\n",
              "      display:flex;\n",
              "      flex-wrap:wrap;\n",
              "      gap: 12px;\n",
              "    }\n",
              "\n",
              "    .colab-df-convert {\n",
              "      background-color: #E8F0FE;\n",
              "      border: none;\n",
              "      border-radius: 50%;\n",
              "      cursor: pointer;\n",
              "      display: none;\n",
              "      fill: #1967D2;\n",
              "      height: 32px;\n",
              "      padding: 0 0 0 0;\n",
              "      width: 32px;\n",
              "    }\n",
              "\n",
              "    .colab-df-convert:hover {\n",
              "      background-color: #E2EBFA;\n",
              "      box-shadow: 0px 1px 2px rgba(60, 64, 67, 0.3), 0px 1px 3px 1px rgba(60, 64, 67, 0.15);\n",
              "      fill: #174EA6;\n",
              "    }\n",
              "\n",
              "    [theme=dark] .colab-df-convert {\n",
              "      background-color: #3B4455;\n",
              "      fill: #D2E3FC;\n",
              "    }\n",
              "\n",
              "    [theme=dark] .colab-df-convert:hover {\n",
              "      background-color: #434B5C;\n",
              "      box-shadow: 0px 1px 3px 1px rgba(0, 0, 0, 0.15);\n",
              "      filter: drop-shadow(0px 1px 2px rgba(0, 0, 0, 0.3));\n",
              "      fill: #FFFFFF;\n",
              "    }\n",
              "  </style>\n",
              "\n",
              "      <script>\n",
              "        const buttonEl =\n",
              "          document.querySelector('#df-72ad130f-b0d9-4127-8b2c-3a9b55345add button.colab-df-convert');\n",
              "        buttonEl.style.display =\n",
              "          google.colab.kernel.accessAllowed ? 'block' : 'none';\n",
              "\n",
              "        async function convertToInteractive(key) {\n",
              "          const element = document.querySelector('#df-72ad130f-b0d9-4127-8b2c-3a9b55345add');\n",
              "          const dataTable =\n",
              "            await google.colab.kernel.invokeFunction('convertToInteractive',\n",
              "                                                     [key], {});\n",
              "          if (!dataTable) return;\n",
              "\n",
              "          const docLinkHtml = 'Like what you see? Visit the ' +\n",
              "            '<a target=\"_blank\" href=https://colab.research.google.com/notebooks/data_table.ipynb>data table notebook</a>'\n",
              "            + ' to learn more about interactive tables.';\n",
              "          element.innerHTML = '';\n",
              "          dataTable['output_type'] = 'display_data';\n",
              "          await google.colab.output.renderOutput(dataTable, element);\n",
              "          const docLink = document.createElement('div');\n",
              "          docLink.innerHTML = docLinkHtml;\n",
              "          element.appendChild(docLink);\n",
              "        }\n",
              "      </script>\n",
              "    </div>\n",
              "  </div>\n",
              "  "
            ]
          },
          "metadata": {},
          "execution_count": 9
        }
      ]
    },
    {
      "cell_type": "code",
      "source": [
        "c = df.columns\n",
        "c = [x for x in c if x != 'instrument_source_str']\n",
        "c"
      ],
      "metadata": {
        "colab": {
          "base_uri": "https://localhost:8080/"
        },
        "id": "qLFJDpDcaEBN",
        "outputId": "d70ee5e2-9429-4b40-f07c-497460fef1bd"
      },
      "execution_count": 10,
      "outputs": [
        {
          "output_type": "execute_result",
          "data": {
            "text/plain": [
              "['qualities',\n",
              " 'pitch',\n",
              " 'note',\n",
              " 'velocity',\n",
              " 'instrument_str',\n",
              " 'instrument',\n",
              " 'sample_rate',\n",
              " 'qualities_str',\n",
              " 'instrument_source',\n",
              " 'note_str',\n",
              " 'instrument_family',\n",
              " 'instrument_family_str']"
            ]
          },
          "metadata": {},
          "execution_count": 10
        }
      ]
    },
    {
      "cell_type": "code",
      "source": [
        "data = df.drop(columns=c)\n",
        "data['name'] = data.index\n",
        "data = data.reset_index(drop=True)"
      ],
      "metadata": {
        "id": "7NcnUfJMZ2v7"
      },
      "execution_count": 11,
      "outputs": []
    },
    {
      "cell_type": "code",
      "source": [
        "data.head(5)"
      ],
      "metadata": {
        "colab": {
          "base_uri": "https://localhost:8080/",
          "height": 204
        },
        "id": "FHXuHn_YaWQB",
        "outputId": "2e228916-a3bf-447f-87ee-220c804c8108"
      },
      "execution_count": 12,
      "outputs": [
        {
          "output_type": "execute_result",
          "data": {
            "text/plain": [
              "   instrument_source_str                             name\n",
              "0                      0       bass_synthetic_068-049-025\n",
              "1                      1  keyboard_electronic_001-021-127\n",
              "2                      2      guitar_acoustic_010-066-100\n",
              "3                      2        reed_acoustic_037-068-127\n",
              "4                      2       flute_acoustic_002-077-100"
            ],
            "text/html": [
              "\n",
              "  <div id=\"df-bbea061a-4403-4c22-b277-63a0ec0ecb30\">\n",
              "    <div class=\"colab-df-container\">\n",
              "      <div>\n",
              "<style scoped>\n",
              "    .dataframe tbody tr th:only-of-type {\n",
              "        vertical-align: middle;\n",
              "    }\n",
              "\n",
              "    .dataframe tbody tr th {\n",
              "        vertical-align: top;\n",
              "    }\n",
              "\n",
              "    .dataframe thead th {\n",
              "        text-align: right;\n",
              "    }\n",
              "</style>\n",
              "<table border=\"1\" class=\"dataframe\">\n",
              "  <thead>\n",
              "    <tr style=\"text-align: right;\">\n",
              "      <th></th>\n",
              "      <th>instrument_source_str</th>\n",
              "      <th>name</th>\n",
              "    </tr>\n",
              "  </thead>\n",
              "  <tbody>\n",
              "    <tr>\n",
              "      <th>0</th>\n",
              "      <td>0</td>\n",
              "      <td>bass_synthetic_068-049-025</td>\n",
              "    </tr>\n",
              "    <tr>\n",
              "      <th>1</th>\n",
              "      <td>1</td>\n",
              "      <td>keyboard_electronic_001-021-127</td>\n",
              "    </tr>\n",
              "    <tr>\n",
              "      <th>2</th>\n",
              "      <td>2</td>\n",
              "      <td>guitar_acoustic_010-066-100</td>\n",
              "    </tr>\n",
              "    <tr>\n",
              "      <th>3</th>\n",
              "      <td>2</td>\n",
              "      <td>reed_acoustic_037-068-127</td>\n",
              "    </tr>\n",
              "    <tr>\n",
              "      <th>4</th>\n",
              "      <td>2</td>\n",
              "      <td>flute_acoustic_002-077-100</td>\n",
              "    </tr>\n",
              "  </tbody>\n",
              "</table>\n",
              "</div>\n",
              "      <button class=\"colab-df-convert\" onclick=\"convertToInteractive('df-bbea061a-4403-4c22-b277-63a0ec0ecb30')\"\n",
              "              title=\"Convert this dataframe to an interactive table.\"\n",
              "              style=\"display:none;\">\n",
              "        \n",
              "  <svg xmlns=\"http://www.w3.org/2000/svg\" height=\"24px\"viewBox=\"0 0 24 24\"\n",
              "       width=\"24px\">\n",
              "    <path d=\"M0 0h24v24H0V0z\" fill=\"none\"/>\n",
              "    <path d=\"M18.56 5.44l.94 2.06.94-2.06 2.06-.94-2.06-.94-.94-2.06-.94 2.06-2.06.94zm-11 1L8.5 8.5l.94-2.06 2.06-.94-2.06-.94L8.5 2.5l-.94 2.06-2.06.94zm10 10l.94 2.06.94-2.06 2.06-.94-2.06-.94-.94-2.06-.94 2.06-2.06.94z\"/><path d=\"M17.41 7.96l-1.37-1.37c-.4-.4-.92-.59-1.43-.59-.52 0-1.04.2-1.43.59L10.3 9.45l-7.72 7.72c-.78.78-.78 2.05 0 2.83L4 21.41c.39.39.9.59 1.41.59.51 0 1.02-.2 1.41-.59l7.78-7.78 2.81-2.81c.8-.78.8-2.07 0-2.86zM5.41 20L4 18.59l7.72-7.72 1.47 1.35L5.41 20z\"/>\n",
              "  </svg>\n",
              "      </button>\n",
              "      \n",
              "  <style>\n",
              "    .colab-df-container {\n",
              "      display:flex;\n",
              "      flex-wrap:wrap;\n",
              "      gap: 12px;\n",
              "    }\n",
              "\n",
              "    .colab-df-convert {\n",
              "      background-color: #E8F0FE;\n",
              "      border: none;\n",
              "      border-radius: 50%;\n",
              "      cursor: pointer;\n",
              "      display: none;\n",
              "      fill: #1967D2;\n",
              "      height: 32px;\n",
              "      padding: 0 0 0 0;\n",
              "      width: 32px;\n",
              "    }\n",
              "\n",
              "    .colab-df-convert:hover {\n",
              "      background-color: #E2EBFA;\n",
              "      box-shadow: 0px 1px 2px rgba(60, 64, 67, 0.3), 0px 1px 3px 1px rgba(60, 64, 67, 0.15);\n",
              "      fill: #174EA6;\n",
              "    }\n",
              "\n",
              "    [theme=dark] .colab-df-convert {\n",
              "      background-color: #3B4455;\n",
              "      fill: #D2E3FC;\n",
              "    }\n",
              "\n",
              "    [theme=dark] .colab-df-convert:hover {\n",
              "      background-color: #434B5C;\n",
              "      box-shadow: 0px 1px 3px 1px rgba(0, 0, 0, 0.15);\n",
              "      filter: drop-shadow(0px 1px 2px rgba(0, 0, 0, 0.3));\n",
              "      fill: #FFFFFF;\n",
              "    }\n",
              "  </style>\n",
              "\n",
              "      <script>\n",
              "        const buttonEl =\n",
              "          document.querySelector('#df-bbea061a-4403-4c22-b277-63a0ec0ecb30 button.colab-df-convert');\n",
              "        buttonEl.style.display =\n",
              "          google.colab.kernel.accessAllowed ? 'block' : 'none';\n",
              "\n",
              "        async function convertToInteractive(key) {\n",
              "          const element = document.querySelector('#df-bbea061a-4403-4c22-b277-63a0ec0ecb30');\n",
              "          const dataTable =\n",
              "            await google.colab.kernel.invokeFunction('convertToInteractive',\n",
              "                                                     [key], {});\n",
              "          if (!dataTable) return;\n",
              "\n",
              "          const docLinkHtml = 'Like what you see? Visit the ' +\n",
              "            '<a target=\"_blank\" href=https://colab.research.google.com/notebooks/data_table.ipynb>data table notebook</a>'\n",
              "            + ' to learn more about interactive tables.';\n",
              "          element.innerHTML = '';\n",
              "          dataTable['output_type'] = 'display_data';\n",
              "          await google.colab.output.renderOutput(dataTable, element);\n",
              "          const docLink = document.createElement('div');\n",
              "          docLink.innerHTML = docLinkHtml;\n",
              "          element.appendChild(docLink);\n",
              "        }\n",
              "      </script>\n",
              "    </div>\n",
              "  </div>\n",
              "  "
            ]
          },
          "metadata": {},
          "execution_count": 12
        }
      ]
    },
    {
      "cell_type": "code",
      "source": [
        "#looking at the foiour transform\n",
        "instance = 'reed_acoustic_037-068-127'\n",
        "source = \"nsynth-test/audio/\" + str(instance) + \".wav\"\n",
        "sample_rate, samples = wavfile.read(source)\n",
        "plt.plot(samples)"
      ],
      "metadata": {
        "id": "IVJa7QVGarRh",
        "colab": {
          "base_uri": "https://localhost:8080/",
          "height": 282
        },
        "outputId": "7daf8869-dbff-411a-acdd-936ae8f09ff3"
      },
      "execution_count": 45,
      "outputs": [
        {
          "output_type": "execute_result",
          "data": {
            "text/plain": [
              "[<matplotlib.lines.Line2D at 0x7fc3096e3d30>]"
            ]
          },
          "metadata": {},
          "execution_count": 45
        },
        {
          "output_type": "display_data",
          "data": {
            "text/plain": [
              "<Figure size 432x288 with 1 Axes>"
            ],
            "image/png": "[encoded data removed]"
          },
          "metadata": {
            "needs_background": "light"
          }
        }
      ]
    },
    {
      "cell_type": "code",
      "source": [
        "frequencies, times, spectrogram = signal.stft(samples, fs=sample_rate, nperseg=1000)\n",
        "plt.plot(spectrogram)"
      ],
      "metadata": {
        "colab": {
          "base_uri": "https://localhost:8080/",
          "height": 1000
        },
        "id": "uIF2Lu8h0C_i",
        "outputId": "e77e621a-f243-4432-ca31-bf9addc84dcc"
      },
      "execution_count": 46,
      "outputs": [
        {
          "output_type": "stream",
          "name": "stderr",
          "text": [
            "/usr/local/lib/python3.8/dist-packages/matplotlib/cbook/__init__.py:1317: ComplexWarning: Casting complex values to real discards the imaginary part\n",
            "  return np.asarray(x, float)\n"
          ]
        },
        {
          "output_type": "execute_result",
          "data": {
            "text/plain": [
              "[<matplotlib.lines.Line2D at 0x7fc30963f9a0>,\n",
              " <matplotlib.lines.Line2D at 0x7fc30963faf0>,\n",
              " <matplotlib.lines.Line2D at 0x7fc30963fbb0>,\n",
              " <matplotlib.lines.Line2D at 0x7fc30963fc70>,\n",
              " <matplotlib.lines.Line2D at 0x7fc30963fd30>,\n",
              " <matplotlib.lines.Line2D at 0x7fc30963fdf0>,\n",
              " <matplotlib.lines.Line2D at 0x7fc30963feb0>,\n",
              " <matplotlib.lines.Line2D at 0x7fc30963ff70>,\n",
              " <matplotlib.lines.Line2D at 0x7fc309649040>,\n",
              " <matplotlib.lines.Line2D at 0x7fc309649130>,\n",
              " <matplotlib.lines.Line2D at 0x7fc30963fa00>,\n",
              " <matplotlib.lines.Line2D at 0x7fc309649250>,\n",
              " <matplotlib.lines.Line2D at 0x7fc309649340>,\n",
              " <matplotlib.lines.Line2D at 0x7fc309649400>,\n",
              " <matplotlib.lines.Line2D at 0x7fc3096494c0>,\n",
              " <matplotlib.lines.Line2D at 0x7fc309649580>,\n",
              " <matplotlib.lines.Line2D at 0x7fc309649640>,\n",
              " <matplotlib.lines.Line2D at 0x7fc309649700>,\n",
              " <matplotlib.lines.Line2D at 0x7fc3096497c0>,\n",
              " <matplotlib.lines.Line2D at 0x7fc309649880>,\n",
              " <matplotlib.lines.Line2D at 0x7fc309649940>,\n",
              " <matplotlib.lines.Line2D at 0x7fc309649a00>,\n",
              " <matplotlib.lines.Line2D at 0x7fc309649ac0>,\n",
              " <matplotlib.lines.Line2D at 0x7fc309649b80>,\n",
              " <matplotlib.lines.Line2D at 0x7fc309649c40>,\n",
              " <matplotlib.lines.Line2D at 0x7fc309649d00>,\n",
              " <matplotlib.lines.Line2D at 0x7fc309649dc0>,\n",
              " <matplotlib.lines.Line2D at 0x7fc309649e80>,\n",
              " <matplotlib.lines.Line2D at 0x7fc309649f40>,\n",
              " <matplotlib.lines.Line2D at 0x7fc309649fa0>,\n",
              " <matplotlib.lines.Line2D at 0x7fc309652100>,\n",
              " <matplotlib.lines.Line2D at 0x7fc3096521c0>,\n",
              " <matplotlib.lines.Line2D at 0x7fc309652280>,\n",
              " <matplotlib.lines.Line2D at 0x7fc309652340>,\n",
              " <matplotlib.lines.Line2D at 0x7fc309652400>,\n",
              " <matplotlib.lines.Line2D at 0x7fc3096524c0>,\n",
              " <matplotlib.lines.Line2D at 0x7fc309652580>,\n",
              " <matplotlib.lines.Line2D at 0x7fc309652640>,\n",
              " <matplotlib.lines.Line2D at 0x7fc309652700>,\n",
              " <matplotlib.lines.Line2D at 0x7fc3096527c0>,\n",
              " <matplotlib.lines.Line2D at 0x7fc309652880>,\n",
              " <matplotlib.lines.Line2D at 0x7fc309652940>,\n",
              " <matplotlib.lines.Line2D at 0x7fc309652a00>,\n",
              " <matplotlib.lines.Line2D at 0x7fc309652ac0>,\n",
              " <matplotlib.lines.Line2D at 0x7fc309652b80>,\n",
              " <matplotlib.lines.Line2D at 0x7fc309652c40>,\n",
              " <matplotlib.lines.Line2D at 0x7fc309652d00>,\n",
              " <matplotlib.lines.Line2D at 0x7fc309652dc0>,\n",
              " <matplotlib.lines.Line2D at 0x7fc309652e80>,\n",
              " <matplotlib.lines.Line2D at 0x7fc309652f40>,\n",
              " <matplotlib.lines.Line2D at 0x7fc309652fa0>,\n",
              " <matplotlib.lines.Line2D at 0x7fc309659100>,\n",
              " <matplotlib.lines.Line2D at 0x7fc3096591c0>,\n",
              " <matplotlib.lines.Line2D at 0x7fc309659280>,\n",
              " <matplotlib.lines.Line2D at 0x7fc309659340>,\n",
              " <matplotlib.lines.Line2D at 0x7fc309659400>,\n",
              " <matplotlib.lines.Line2D at 0x7fc3096594c0>,\n",
              " <matplotlib.lines.Line2D at 0x7fc309659580>,\n",
              " <matplotlib.lines.Line2D at 0x7fc309659640>,\n",
              " <matplotlib.lines.Line2D at 0x7fc309659700>,\n",
              " <matplotlib.lines.Line2D at 0x7fc3096597c0>,\n",
              " <matplotlib.lines.Line2D at 0x7fc309659880>,\n",
              " <matplotlib.lines.Line2D at 0x7fc309659940>,\n",
              " <matplotlib.lines.Line2D at 0x7fc309659a00>,\n",
              " <matplotlib.lines.Line2D at 0x7fc309659ac0>,\n",
              " <matplotlib.lines.Line2D at 0x7fc309659b80>,\n",
              " <matplotlib.lines.Line2D at 0x7fc309659c40>,\n",
              " <matplotlib.lines.Line2D at 0x7fc309659d00>,\n",
              " <matplotlib.lines.Line2D at 0x7fc309659dc0>,\n",
              " <matplotlib.lines.Line2D at 0x7fc309659e80>,\n",
              " <matplotlib.lines.Line2D at 0x7fc309659f40>,\n",
              " <matplotlib.lines.Line2D at 0x7fc309659fa0>,\n",
              " <matplotlib.lines.Line2D at 0x7fc309661100>,\n",
              " <matplotlib.lines.Line2D at 0x7fc3096611c0>,\n",
              " <matplotlib.lines.Line2D at 0x7fc309661280>,\n",
              " <matplotlib.lines.Line2D at 0x7fc309661340>,\n",
              " <matplotlib.lines.Line2D at 0x7fc309661400>,\n",
              " <matplotlib.lines.Line2D at 0x7fc3096614c0>,\n",
              " <matplotlib.lines.Line2D at 0x7fc309661580>,\n",
              " <matplotlib.lines.Line2D at 0x7fc309661640>,\n",
              " <matplotlib.lines.Line2D at 0x7fc309661700>,\n",
              " <matplotlib.lines.Line2D at 0x7fc3096617c0>,\n",
              " <matplotlib.lines.Line2D at 0x7fc309661880>,\n",
              " <matplotlib.lines.Line2D at 0x7fc309661940>,\n",
              " <matplotlib.lines.Line2D at 0x7fc309661a00>,\n",
              " <matplotlib.lines.Line2D at 0x7fc309661ac0>,\n",
              " <matplotlib.lines.Line2D at 0x7fc309661b80>,\n",
              " <matplotlib.lines.Line2D at 0x7fc309661c40>,\n",
              " <matplotlib.lines.Line2D at 0x7fc309661d00>,\n",
              " <matplotlib.lines.Line2D at 0x7fc309661dc0>,\n",
              " <matplotlib.lines.Line2D at 0x7fc309661e80>,\n",
              " <matplotlib.lines.Line2D at 0x7fc309661f40>,\n",
              " <matplotlib.lines.Line2D at 0x7fc309661fa0>,\n",
              " <matplotlib.lines.Line2D at 0x7fc309669100>,\n",
              " <matplotlib.lines.Line2D at 0x7fc3096691c0>,\n",
              " <matplotlib.lines.Line2D at 0x7fc309669280>,\n",
              " <matplotlib.lines.Line2D at 0x7fc309669340>,\n",
              " <matplotlib.lines.Line2D at 0x7fc309669400>,\n",
              " <matplotlib.lines.Line2D at 0x7fc3096694c0>,\n",
              " <matplotlib.lines.Line2D at 0x7fc309669580>,\n",
              " <matplotlib.lines.Line2D at 0x7fc309669640>,\n",
              " <matplotlib.lines.Line2D at 0x7fc309669700>,\n",
              " <matplotlib.lines.Line2D at 0x7fc3096697c0>,\n",
              " <matplotlib.lines.Line2D at 0x7fc309669880>,\n",
              " <matplotlib.lines.Line2D at 0x7fc309669940>,\n",
              " <matplotlib.lines.Line2D at 0x7fc309669a00>,\n",
              " <matplotlib.lines.Line2D at 0x7fc309669ac0>,\n",
              " <matplotlib.lines.Line2D at 0x7fc309669b80>,\n",
              " <matplotlib.lines.Line2D at 0x7fc309669c40>,\n",
              " <matplotlib.lines.Line2D at 0x7fc309669d00>,\n",
              " <matplotlib.lines.Line2D at 0x7fc309669dc0>,\n",
              " <matplotlib.lines.Line2D at 0x7fc309669e80>,\n",
              " <matplotlib.lines.Line2D at 0x7fc309669f40>,\n",
              " <matplotlib.lines.Line2D at 0x7fc309669fa0>,\n",
              " <matplotlib.lines.Line2D at 0x7fc309670100>,\n",
              " <matplotlib.lines.Line2D at 0x7fc3096701c0>,\n",
              " <matplotlib.lines.Line2D at 0x7fc309670280>,\n",
              " <matplotlib.lines.Line2D at 0x7fc309670340>,\n",
              " <matplotlib.lines.Line2D at 0x7fc309670400>,\n",
              " <matplotlib.lines.Line2D at 0x7fc3096704c0>,\n",
              " <matplotlib.lines.Line2D at 0x7fc309670580>,\n",
              " <matplotlib.lines.Line2D at 0x7fc309670640>,\n",
              " <matplotlib.lines.Line2D at 0x7fc309670700>,\n",
              " <matplotlib.lines.Line2D at 0x7fc3096707c0>,\n",
              " <matplotlib.lines.Line2D at 0x7fc309670880>,\n",
              " <matplotlib.lines.Line2D at 0x7fc309670940>,\n",
              " <matplotlib.lines.Line2D at 0x7fc309670a00>,\n",
              " <matplotlib.lines.Line2D at 0x7fc309670ac0>,\n",
              " <matplotlib.lines.Line2D at 0x7fc309670b80>]"
            ]
          },
          "metadata": {},
          "execution_count": 46
        },
        {
          "output_type": "display_data",
          "data": {
            "text/plain": [
              "<Figure size 432x288 with 1 Axes>"
            ],
            "image/png": "[encoded data removed]"
          },
          "metadata": {
            "needs_background": "light"
          }
        }
      ]
    },
    {
      "cell_type": "code",
      "source": [
        "spec = np.real(spectrogram)\n",
        "plt.plot(spec)"
      ],
      "metadata": {
        "id": "gL82VqIB2gyP"
      },
      "execution_count": null,
      "outputs": []
    },
    {
      "cell_type": "code",
      "source": [
        "vector = data[data['name'] == instance]\n",
        "lv = list(vector.values)\n",
        "a = np.array(lv[0][:-1])\n",
        "y = np.array(list(lv[0][:-1]))"
      ],
      "metadata": {
        "id": "aj6-nvDBbX7-"
      },
      "execution_count": 15,
      "outputs": []
    },
    {
      "cell_type": "code",
      "source": [
        "vector.values[0][0]"
      ],
      "metadata": {
        "colab": {
          "base_uri": "https://localhost:8080/"
        },
        "id": "XlbKQMjGbfk8",
        "outputId": "0e908201-7031-4dc8-e051-d51f87f28cba"
      },
      "execution_count": 16,
      "outputs": [
        {
          "output_type": "execute_result",
          "data": {
            "text/plain": [
              "1"
            ]
          },
          "metadata": {},
          "execution_count": 16
        }
      ]
    },
    {
      "cell_type": "code",
      "source": [
        "wav_og = samples.reshape(512,125)\n",
        "plt.plot(wav_og)"
      ],
      "metadata": {
        "colab": {
          "base_uri": "https://localhost:8080/",
          "height": 1000
        },
        "id": "jcKApLZoawN-",
        "outputId": "603a1e69-225e-4727-f166-2fbaddb8ffd5"
      },
      "execution_count": 17,
      "outputs": [
        {
          "output_type": "execute_result",
          "data": {
            "text/plain": [
              "[<matplotlib.lines.Line2D at 0x7fbc00dcf7c0>,\n",
              " <matplotlib.lines.Line2D at 0x7fbc00dcf910>,\n",
              " <matplotlib.lines.Line2D at 0x7fbc00dcf9d0>,\n",
              " <matplotlib.lines.Line2D at 0x7fbc00dcfa90>,\n",
              " <matplotlib.lines.Line2D at 0x7fbc00dcfb50>,\n",
              " <matplotlib.lines.Line2D at 0x7fbc00dcfc10>,\n",
              " <matplotlib.lines.Line2D at 0x7fbc00dcfcd0>,\n",
              " <matplotlib.lines.Line2D at 0x7fbc00dcfd90>,\n",
              " <matplotlib.lines.Line2D at 0x7fbc00dcfe50>,\n",
              " <matplotlib.lines.Line2D at 0x7fbc00dcff10>,\n",
              " <matplotlib.lines.Line2D at 0x7fbc00dcffd0>,\n",
              " <matplotlib.lines.Line2D at 0x7fbc00dd4070>,\n",
              " <matplotlib.lines.Line2D at 0x7fbc00dd4160>,\n",
              " <matplotlib.lines.Line2D at 0x7fbc00dd4220>,\n",
              " <matplotlib.lines.Line2D at 0x7fbc00dd42e0>,\n",
              " <matplotlib.lines.Line2D at 0x7fbc00dd43a0>,\n",
              " <matplotlib.lines.Line2D at 0x7fbc00dd4460>,\n",
              " <matplotlib.lines.Line2D at 0x7fbc00dd4520>,\n",
              " <matplotlib.lines.Line2D at 0x7fbc00dd45e0>,\n",
              " <matplotlib.lines.Line2D at 0x7fbc00dd46a0>,\n",
              " <matplotlib.lines.Line2D at 0x7fbc00dd4760>,\n",
              " <matplotlib.lines.Line2D at 0x7fbc00dd4820>,\n",
              " <matplotlib.lines.Line2D at 0x7fbc00dd48e0>,\n",
              " <matplotlib.lines.Line2D at 0x7fbc00dd49a0>,\n",
              " <matplotlib.lines.Line2D at 0x7fbc00dd4a60>,\n",
              " <matplotlib.lines.Line2D at 0x7fbc00dd4b20>,\n",
              " <matplotlib.lines.Line2D at 0x7fbc00dd4be0>,\n",
              " <matplotlib.lines.Line2D at 0x7fbc00dd4ca0>,\n",
              " <matplotlib.lines.Line2D at 0x7fbc00dd4d60>,\n",
              " <matplotlib.lines.Line2D at 0x7fbc00dd4e20>,\n",
              " <matplotlib.lines.Line2D at 0x7fbc00dd4ee0>,\n",
              " <matplotlib.lines.Line2D at 0x7fbc00dd4fa0>,\n",
              " <matplotlib.lines.Line2D at 0x7fbc00dd80a0>,\n",
              " <matplotlib.lines.Line2D at 0x7fbc00dd8160>,\n",
              " <matplotlib.lines.Line2D at 0x7fbc00dd8220>,\n",
              " <matplotlib.lines.Line2D at 0x7fbc00dd82e0>,\n",
              " <matplotlib.lines.Line2D at 0x7fbc00dd83a0>,\n",
              " <matplotlib.lines.Line2D at 0x7fbc00dd8460>,\n",
              " <matplotlib.lines.Line2D at 0x7fbc00dd8520>,\n",
              " <matplotlib.lines.Line2D at 0x7fbc00dd85e0>,\n",
              " <matplotlib.lines.Line2D at 0x7fbc00dd86a0>,\n",
              " <matplotlib.lines.Line2D at 0x7fbc00dd8760>,\n",
              " <matplotlib.lines.Line2D at 0x7fbc00dd8820>,\n",
              " <matplotlib.lines.Line2D at 0x7fbc00dd88e0>,\n",
              " <matplotlib.lines.Line2D at 0x7fbc00dd89a0>,\n",
              " <matplotlib.lines.Line2D at 0x7fbc00dd8a60>,\n",
              " <matplotlib.lines.Line2D at 0x7fbc00dd8b20>,\n",
              " <matplotlib.lines.Line2D at 0x7fbc00dd8be0>,\n",
              " <matplotlib.lines.Line2D at 0x7fbc00dd8ca0>,\n",
              " <matplotlib.lines.Line2D at 0x7fbc00dd8d60>,\n",
              " <matplotlib.lines.Line2D at 0x7fbc00dd8e20>,\n",
              " <matplotlib.lines.Line2D at 0x7fbc00dd8ee0>,\n",
              " <matplotlib.lines.Line2D at 0x7fbc00dd8fa0>,\n",
              " <matplotlib.lines.Line2D at 0x7fbc00ddc0a0>,\n",
              " <matplotlib.lines.Line2D at 0x7fbc00ddc160>,\n",
              " <matplotlib.lines.Line2D at 0x7fbc00ddc220>,\n",
              " <matplotlib.lines.Line2D at 0x7fbc00ddc2e0>,\n",
              " <matplotlib.lines.Line2D at 0x7fbc00ddc3a0>,\n",
              " <matplotlib.lines.Line2D at 0x7fbc00ddc460>,\n",
              " <matplotlib.lines.Line2D at 0x7fbc00ddc520>,\n",
              " <matplotlib.lines.Line2D at 0x7fbc00ddc5e0>,\n",
              " <matplotlib.lines.Line2D at 0x7fbc00ddc6a0>,\n",
              " <matplotlib.lines.Line2D at 0x7fbc00ddc760>,\n",
              " <matplotlib.lines.Line2D at 0x7fbc00ddc820>,\n",
              " <matplotlib.lines.Line2D at 0x7fbc00ddc8e0>,\n",
              " <matplotlib.lines.Line2D at 0x7fbc00ddc9a0>,\n",
              " <matplotlib.lines.Line2D at 0x7fbc00ddca60>,\n",
              " <matplotlib.lines.Line2D at 0x7fbc00ddcb20>,\n",
              " <matplotlib.lines.Line2D at 0x7fbc00ddcbe0>,\n",
              " <matplotlib.lines.Line2D at 0x7fbc00ddcca0>,\n",
              " <matplotlib.lines.Line2D at 0x7fbc00ddcd60>,\n",
              " <matplotlib.lines.Line2D at 0x7fbc00ddce20>,\n",
              " <matplotlib.lines.Line2D at 0x7fbc00ddcee0>,\n",
              " <matplotlib.lines.Line2D at 0x7fbc00ddcfa0>,\n",
              " <matplotlib.lines.Line2D at 0x7fbc00de00a0>,\n",
              " <matplotlib.lines.Line2D at 0x7fbc00de0160>,\n",
              " <matplotlib.lines.Line2D at 0x7fbc00de0220>,\n",
              " <matplotlib.lines.Line2D at 0x7fbc00de02e0>,\n",
              " <matplotlib.lines.Line2D at 0x7fbc00de03a0>,\n",
              " <matplotlib.lines.Line2D at 0x7fbc00de0460>,\n",
              " <matplotlib.lines.Line2D at 0x7fbc00de0520>,\n",
              " <matplotlib.lines.Line2D at 0x7fbc00de05e0>,\n",
              " <matplotlib.lines.Line2D at 0x7fbc00de06a0>,\n",
              " <matplotlib.lines.Line2D at 0x7fbc00de0760>,\n",
              " <matplotlib.lines.Line2D at 0x7fbc00de0820>,\n",
              " <matplotlib.lines.Line2D at 0x7fbc00de08e0>,\n",
              " <matplotlib.lines.Line2D at 0x7fbc00de09a0>,\n",
              " <matplotlib.lines.Line2D at 0x7fbc00de0a60>,\n",
              " <matplotlib.lines.Line2D at 0x7fbc00de0b20>,\n",
              " <matplotlib.lines.Line2D at 0x7fbc00de0be0>,\n",
              " <matplotlib.lines.Line2D at 0x7fbc00de0ca0>,\n",
              " <matplotlib.lines.Line2D at 0x7fbc00de0d60>,\n",
              " <matplotlib.lines.Line2D at 0x7fbc00de0e20>,\n",
              " <matplotlib.lines.Line2D at 0x7fbc00de0ee0>,\n",
              " <matplotlib.lines.Line2D at 0x7fbc00de0fa0>,\n",
              " <matplotlib.lines.Line2D at 0x7fbc00de30a0>,\n",
              " <matplotlib.lines.Line2D at 0x7fbc00de3160>,\n",
              " <matplotlib.lines.Line2D at 0x7fbc00de3220>,\n",
              " <matplotlib.lines.Line2D at 0x7fbc00de32e0>,\n",
              " <matplotlib.lines.Line2D at 0x7fbc00de33a0>,\n",
              " <matplotlib.lines.Line2D at 0x7fbc00de3460>,\n",
              " <matplotlib.lines.Line2D at 0x7fbc00de3520>,\n",
              " <matplotlib.lines.Line2D at 0x7fbc00de35e0>,\n",
              " <matplotlib.lines.Line2D at 0x7fbc00de36a0>,\n",
              " <matplotlib.lines.Line2D at 0x7fbc00de3760>,\n",
              " <matplotlib.lines.Line2D at 0x7fbc00de3820>,\n",
              " <matplotlib.lines.Line2D at 0x7fbc00de38e0>,\n",
              " <matplotlib.lines.Line2D at 0x7fbc00de39a0>,\n",
              " <matplotlib.lines.Line2D at 0x7fbc00de3a60>,\n",
              " <matplotlib.lines.Line2D at 0x7fbc00de3b20>,\n",
              " <matplotlib.lines.Line2D at 0x7fbc00de3be0>,\n",
              " <matplotlib.lines.Line2D at 0x7fbc00de3ca0>,\n",
              " <matplotlib.lines.Line2D at 0x7fbc00de3d60>,\n",
              " <matplotlib.lines.Line2D at 0x7fbc00de3e20>,\n",
              " <matplotlib.lines.Line2D at 0x7fbc00de3ee0>,\n",
              " <matplotlib.lines.Line2D at 0x7fbc00de3fa0>,\n",
              " <matplotlib.lines.Line2D at 0x7fbc00de60a0>,\n",
              " <matplotlib.lines.Line2D at 0x7fbc00de6160>,\n",
              " <matplotlib.lines.Line2D at 0x7fbc00de6220>,\n",
              " <matplotlib.lines.Line2D at 0x7fbc00de62e0>,\n",
              " <matplotlib.lines.Line2D at 0x7fbc00de63a0>,\n",
              " <matplotlib.lines.Line2D at 0x7fbc00de6460>,\n",
              " <matplotlib.lines.Line2D at 0x7fbc00de6520>,\n",
              " <matplotlib.lines.Line2D at 0x7fbc00de65e0>,\n",
              " <matplotlib.lines.Line2D at 0x7fbc00de66a0>]"
            ]
          },
          "metadata": {},
          "execution_count": 17
        },
        {
          "output_type": "display_data",
          "data": {
            "text/plain": [
              "<Figure size 432x288 with 1 Axes>"
            ],
            "image/png": "[encoded data removed]"
          },
          "metadata": {
            "needs_background": "light"
          }
        }
      ]
    },
    {
      "cell_type": "markdown",
      "source": [
        "## Lets make a dataset loader\n"
      ],
      "metadata": {
        "id": "0XuxuV1ia7IF"
      }
    },
    {
      "cell_type": "code",
      "source": [
        "# Lets build a dataloader\n",
        "\n",
        "class WavOriginalDataset(Dataset):\n",
        "    def __init__(self):\n",
        "        self.imgs_path = \"nsynth-test/audio/\" \n",
        "        file_list_data = glob.glob(self.imgs_path + \"*\")\n",
        "        self.vector_path = \"\"\n",
        "        #print(file_list_data)\n",
        "        self.data = []\n",
        "        for file_path in file_list_data:\n",
        "            file_name = file_path.split(\"/\")[-1].split(\".\")[0]\n",
        "            vector = data[data['name'] == file_name]\n",
        "            y = vector.values[0][0]\n",
        "            img_path = file_name\n",
        "            self.data.append([img_path, y])\n",
        "        random.shuffle(self.data)\n",
        "        self.img_dim = (501, 129)\n",
        "    def __len__(self):\n",
        "        return len(self.data)\n",
        "    def __getitem__(self, idx):\n",
        "        path, y = self.data[idx]\n",
        "        source = \"nsynth-test/audio/\" + str(path) + \".wav\"\n",
        "        sample_rate, samples = wavfile.read(source)\n",
        "        samples = samples.reshape(512,125)\n",
        "        img_tensor = torch.from_numpy(samples)\n",
        "        y = torch.tensor(y)\n",
        "        return  img_tensor, y"
      ],
      "metadata": {
        "id": "fRsEhspma4xj"
      },
      "execution_count": 25,
      "outputs": []
    },
    {
      "cell_type": "code",
      "source": [
        "# Lets build a dataloader\n",
        "\n",
        "class FourierDataset(Dataset):\n",
        "    def __init__(self):\n",
        "        self.imgs_path = \"nsynth-test/audio/\" \n",
        "        file_list_data = glob.glob(self.imgs_path + \"*\")\n",
        "        self.vector_path = \"\"\n",
        "        #print(file_list_data)\n",
        "        self.data = []\n",
        "        for file_path in file_list_data:\n",
        "            file_name = file_path.split(\"/\")[-1].split(\".\")[0]\n",
        "            vector = data[data['name'] == file_name]\n",
        "            y = vector.values[0][0]\n",
        "            img_path = file_name\n",
        "            self.data.append([img_path, y])\n",
        "        random.shuffle(self.data)\n",
        "        self.img_dim = (501, 129)\n",
        "    def __len__(self):\n",
        "        return len(self.data)\n",
        "    def __getitem__(self, idx):\n",
        "        path, y = self.data[idx]\n",
        "        source = \"nsynth-test/audio/\" + str(path) + \".wav\"\n",
        "        sample_rate, samples = wavfile.read(source)\n",
        "        frequencies, times, spectrogram = signal.stft(samples, fs=sample_rate, nperseg=1000)\n",
        "        spectrogram = np.real(spectrogram)\n",
        "        spec_fourier = torch.from_numpy(spectrogram)\n",
        "        #samples = spec_fourier.reshape(501,129)\n",
        "        #img_tensor = torch.from_numpy(samples)\n",
        "        return  spec_fourier, y"
      ],
      "metadata": {
        "id": "Djs5MKeW3BCP"
      },
      "execution_count": 13,
      "outputs": []
    },
    {
      "cell_type": "code",
      "source": [
        "#Fourier\n",
        "dataset = FourierDataset()\n",
        "data_loader = DataLoader(dataset, batch_size=32, shuffle=True)\n",
        "dataset.__len__()\n",
        "\n"
      ],
      "metadata": {
        "colab": {
          "base_uri": "https://localhost:8080/"
        },
        "id": "bQAWF5Ft4Jb2",
        "outputId": "a138202e-2e4d-49c6-cb78-018f13abc658"
      },
      "execution_count": 14,
      "outputs": [
        {
          "output_type": "execute_result",
          "data": {
            "text/plain": [
              "4096"
            ]
          },
          "metadata": {},
          "execution_count": 14
        }
      ]
    },
    {
      "cell_type": "code",
      "source": [
        "dataset = WavOriginalDataset()\n",
        "data_loader = DataLoader(dataset, batch_size=32, shuffle=True)\n",
        "dataset.__len__()\n",
        "\n"
      ],
      "metadata": {
        "colab": {
          "base_uri": "https://localhost:8080/"
        },
        "id": "BiuVbozodiOJ",
        "outputId": "19590ae2-8a07-438e-86b9-166c548e7c6d"
      },
      "execution_count": 26,
      "outputs": [
        {
          "output_type": "execute_result",
          "data": {
            "text/plain": [
              "4096"
            ]
          },
          "metadata": {},
          "execution_count": 26
        }
      ]
    },
    {
      "cell_type": "code",
      "source": [
        "abc = dataset.__getitem__(0)\n",
        "plt.plot(abc[0])\n",
        "plt.title('fourier transform')"
      ],
      "metadata": {
        "colab": {
          "base_uri": "https://localhost:8080/",
          "height": 298
        },
        "id": "j-76yt3Kdpl8",
        "outputId": "49114866-bc34-4323-d876-1e06a084f4cc"
      },
      "execution_count": 27,
      "outputs": [
        {
          "output_type": "execute_result",
          "data": {
            "text/plain": [
              "Text(0.5, 1.0, 'fourier transform')"
            ]
          },
          "metadata": {},
          "execution_count": 27
        },
        {
          "output_type": "display_data",
          "data": {
            "text/plain": [
              "<Figure size 432x288 with 1 Axes>"
            ],
            "image/png": "[encoded data removed]"
          },
          "metadata": {
            "needs_background": "light"
          }
        }
      ]
    },
    {
      "cell_type": "code",
      "source": [
        "abc[0].sum()"
      ],
      "metadata": {
        "colab": {
          "base_uri": "https://localhost:8080/"
        },
        "id": "NPaj5-lV4e3M",
        "outputId": "efa072ad-8cce-4a96-82db-b9c07bd924e4"
      },
      "execution_count": 25,
      "outputs": [
        {
          "output_type": "execute_result",
          "data": {
            "text/plain": [
              "tensor(-17337.2676+0.0156j)"
            ]
          },
          "metadata": {},
          "execution_count": 25
        }
      ]
    },
    {
      "cell_type": "code",
      "source": [
        "train_size = int(0.8 * len(dataset))\n",
        "test_size = len(dataset) - train_size\n",
        "train_dataset, test_dataset = torch.utils.data.random_split(dataset, [train_size, test_size])"
      ],
      "metadata": {
        "id": "0ufTkRlYdxBI"
      },
      "execution_count": 28,
      "outputs": []
    },
    {
      "cell_type": "code",
      "source": [
        "train_loader = DataLoader(train_dataset, batch_size=32, shuffle=True)\n",
        "test_loader = DataLoader(test_dataset, batch_size=32, shuffle=True)"
      ],
      "metadata": {
        "id": "QMJNIhkTeqSY"
      },
      "execution_count": 29,
      "outputs": []
    },
    {
      "cell_type": "code",
      "source": [
        "dataiter = iter(train_loader)\n",
        "spec, y = next(dataiter)"
      ],
      "metadata": {
        "id": "hggGbZE3erWj"
      },
      "execution_count": 31,
      "outputs": []
    },
    {
      "cell_type": "code",
      "source": [
        "y[0]"
      ],
      "metadata": {
        "colab": {
          "base_uri": "https://localhost:8080/"
        },
        "id": "TNKlR-5J9P5H",
        "outputId": "902e30e1-b18f-4405-9588-937271ae5ec5"
      },
      "execution_count": 32,
      "outputs": [
        {
          "output_type": "execute_result",
          "data": {
            "text/plain": [
              "tensor(2)"
            ]
          },
          "metadata": {},
          "execution_count": 32
        }
      ]
    },
    {
      "cell_type": "code",
      "source": [
        "plt.plot(spec[0])"
      ],
      "metadata": {
        "colab": {
          "base_uri": "https://localhost:8080/",
          "height": 1000
        },
        "id": "az6tiXtZe1Ak",
        "outputId": "cbe67593-77a8-4968-84e8-3da028967e93"
      },
      "execution_count": 33,
      "outputs": [
        {
          "output_type": "execute_result",
          "data": {
            "text/plain": [
              "[<matplotlib.lines.Line2D at 0x7fa4bb7857f0>,\n",
              " <matplotlib.lines.Line2D at 0x7fa4bb785640>,\n",
              " <matplotlib.lines.Line2D at 0x7fa4bb785760>,\n",
              " <matplotlib.lines.Line2D at 0x7fa4bb785ac0>,\n",
              " <matplotlib.lines.Line2D at 0x7fa4bb785d60>,\n",
              " <matplotlib.lines.Line2D at 0x7fa4bb7859a0>,\n",
              " <matplotlib.lines.Line2D at 0x7fa4bb785d90>,\n",
              " <matplotlib.lines.Line2D at 0x7fa544519700>,\n",
              " <matplotlib.lines.Line2D at 0x7fa5445198b0>,\n",
              " <matplotlib.lines.Line2D at 0x7fa544519340>,\n",
              " <matplotlib.lines.Line2D at 0x7fa4bb785790>,\n",
              " <matplotlib.lines.Line2D at 0x7fa5445191c0>,\n",
              " <matplotlib.lines.Line2D at 0x7fa4bb737280>,\n",
              " <matplotlib.lines.Line2D at 0x7fa4bb737ca0>,\n",
              " <matplotlib.lines.Line2D at 0x7fa4bb737f40>,\n",
              " <matplotlib.lines.Line2D at 0x7fa4bb737bb0>,\n",
              " <matplotlib.lines.Line2D at 0x7fa4bb737550>,\n",
              " <matplotlib.lines.Line2D at 0x7fa4bb737af0>,\n",
              " <matplotlib.lines.Line2D at 0x7fa4bb737a00>,\n",
              " <matplotlib.lines.Line2D at 0x7fa4bb737640>,\n",
              " <matplotlib.lines.Line2D at 0x7fa4bb7376d0>,\n",
              " <matplotlib.lines.Line2D at 0x7fa4bb737730>,\n",
              " <matplotlib.lines.Line2D at 0x7fa4bb737520>,\n",
              " <matplotlib.lines.Line2D at 0x7fa4bb737580>,\n",
              " <matplotlib.lines.Line2D at 0x7fa4bb737040>,\n",
              " <matplotlib.lines.Line2D at 0x7fa4bb7372b0>,\n",
              " <matplotlib.lines.Line2D at 0x7fa4bb7373a0>,\n",
              " <matplotlib.lines.Line2D at 0x7fa4bb737d30>,\n",
              " <matplotlib.lines.Line2D at 0x7fa4bb737f70>,\n",
              " <matplotlib.lines.Line2D at 0x7fa4bb792040>,\n",
              " <matplotlib.lines.Line2D at 0x7fa4bb7922b0>,\n",
              " <matplotlib.lines.Line2D at 0x7fa4bb792370>,\n",
              " <matplotlib.lines.Line2D at 0x7fa4bb792670>,\n",
              " <matplotlib.lines.Line2D at 0x7fa4bb7927f0>,\n",
              " <matplotlib.lines.Line2D at 0x7fa4bb7928b0>,\n",
              " <matplotlib.lines.Line2D at 0x7fa4bb792bb0>,\n",
              " <matplotlib.lines.Line2D at 0x7fa4bb792ee0>,\n",
              " <matplotlib.lines.Line2D at 0x7fa4bb792d30>,\n",
              " <matplotlib.lines.Line2D at 0x7fa4bb7920a0>,\n",
              " <matplotlib.lines.Line2D at 0x7fa4bb792430>,\n",
              " <matplotlib.lines.Line2D at 0x7fa4bb7926d0>,\n",
              " <matplotlib.lines.Line2D at 0x7fa4bb7928e0>,\n",
              " <matplotlib.lines.Line2D at 0x7fa4bb792ac0>,\n",
              " <matplotlib.lines.Line2D at 0x7fa4bb7925e0>,\n",
              " <matplotlib.lines.Line2D at 0x7fa4bb792880>,\n",
              " <matplotlib.lines.Line2D at 0x7fa4bba42040>,\n",
              " <matplotlib.lines.Line2D at 0x7fa4bba42190>,\n",
              " <matplotlib.lines.Line2D at 0x7fa4bba42220>,\n",
              " <matplotlib.lines.Line2D at 0x7fa4bba42ca0>,\n",
              " <matplotlib.lines.Line2D at 0x7fa4bb73a9a0>,\n",
              " <matplotlib.lines.Line2D at 0x7fa4bb73a490>,\n",
              " <matplotlib.lines.Line2D at 0x7fa4bb73a280>,\n",
              " <matplotlib.lines.Line2D at 0x7fa4bb73a970>,\n",
              " <matplotlib.lines.Line2D at 0x7fa4bb73a370>,\n",
              " <matplotlib.lines.Line2D at 0x7fa4bb73a3d0>,\n",
              " <matplotlib.lines.Line2D at 0x7fa4bb73ac40>,\n",
              " <matplotlib.lines.Line2D at 0x7fa4bb732c40>,\n",
              " <matplotlib.lines.Line2D at 0x7fa4bb7320a0>,\n",
              " <matplotlib.lines.Line2D at 0x7fa4bb732040>,\n",
              " <matplotlib.lines.Line2D at 0x7fa4bb732460>,\n",
              " <matplotlib.lines.Line2D at 0x7fa4bb732f10>,\n",
              " <matplotlib.lines.Line2D at 0x7fa4bb732d00>,\n",
              " <matplotlib.lines.Line2D at 0x7fa4bb732e80>,\n",
              " <matplotlib.lines.Line2D at 0x7fa4bb732cd0>,\n",
              " <matplotlib.lines.Line2D at 0x7fa4bb732d60>,\n",
              " <matplotlib.lines.Line2D at 0x7fa4bb732760>,\n",
              " <matplotlib.lines.Line2D at 0x7fa4bb7325e0>,\n",
              " <matplotlib.lines.Line2D at 0x7fa4bb732b50>,\n",
              " <matplotlib.lines.Line2D at 0x7fa4bb732310>,\n",
              " <matplotlib.lines.Line2D at 0x7fa4bb7327c0>,\n",
              " <matplotlib.lines.Line2D at 0x7fa4bb746df0>,\n",
              " <matplotlib.lines.Line2D at 0x7fa4bb7467c0>,\n",
              " <matplotlib.lines.Line2D at 0x7fa4bb746be0>,\n",
              " <matplotlib.lines.Line2D at 0x7fa4bb9f93d0>,\n",
              " <matplotlib.lines.Line2D at 0x7fa4bb9f9ca0>,\n",
              " <matplotlib.lines.Line2D at 0x7fa4bb9f9e80>,\n",
              " <matplotlib.lines.Line2D at 0x7fa4bb9f9760>,\n",
              " <matplotlib.lines.Line2D at 0x7fa4bb9f9100>,\n",
              " <matplotlib.lines.Line2D at 0x7fa4bb9f9280>,\n",
              " <matplotlib.lines.Line2D at 0x7fa4bb9f93a0>,\n",
              " <matplotlib.lines.Line2D at 0x7fa4bb9f9a90>,\n",
              " <matplotlib.lines.Line2D at 0x7fa4bb9f9160>,\n",
              " <matplotlib.lines.Line2D at 0x7fa4bb9f9c40>,\n",
              " <matplotlib.lines.Line2D at 0x7fa4bb9f9f10>,\n",
              " <matplotlib.lines.Line2D at 0x7fa4bb9f9d30>,\n",
              " <matplotlib.lines.Line2D at 0x7fa4bb9f9e50>,\n",
              " <matplotlib.lines.Line2D at 0x7fa55157c4f0>,\n",
              " <matplotlib.lines.Line2D at 0x7fa4bb9f9c10>,\n",
              " <matplotlib.lines.Line2D at 0x7fa4bba25fa0>,\n",
              " <matplotlib.lines.Line2D at 0x7fa4bba25400>,\n",
              " <matplotlib.lines.Line2D at 0x7fa4bba25880>,\n",
              " <matplotlib.lines.Line2D at 0x7fa4bb745790>,\n",
              " <matplotlib.lines.Line2D at 0x7fa4bb7458e0>,\n",
              " <matplotlib.lines.Line2D at 0x7fa4bb745b20>,\n",
              " <matplotlib.lines.Line2D at 0x7fa4bb745f10>,\n",
              " <matplotlib.lines.Line2D at 0x7fa4bb7453d0>,\n",
              " <matplotlib.lines.Line2D at 0x7fa4bb745b50>,\n",
              " <matplotlib.lines.Line2D at 0x7fa4bb736760>,\n",
              " <matplotlib.lines.Line2D at 0x7fa4bb736640>,\n",
              " <matplotlib.lines.Line2D at 0x7fa4bb7361f0>,\n",
              " <matplotlib.lines.Line2D at 0x7fa4bb736790>,\n",
              " <matplotlib.lines.Line2D at 0x7fa4bb7363a0>,\n",
              " <matplotlib.lines.Line2D at 0x7fa4bb736160>,\n",
              " <matplotlib.lines.Line2D at 0x7fa4bb7367f0>,\n",
              " <matplotlib.lines.Line2D at 0x7fa4bb7368b0>,\n",
              " <matplotlib.lines.Line2D at 0x7fa4bb736970>,\n",
              " <matplotlib.lines.Line2D at 0x7fa4bb736a30>,\n",
              " <matplotlib.lines.Line2D at 0x7fa4bb736af0>,\n",
              " <matplotlib.lines.Line2D at 0x7fa4bb736bb0>,\n",
              " <matplotlib.lines.Line2D at 0x7fa4bb736070>,\n",
              " <matplotlib.lines.Line2D at 0x7fa4bb736ee0>,\n",
              " <matplotlib.lines.Line2D at 0x7fa4bb736eb0>,\n",
              " <matplotlib.lines.Line2D at 0x7fa4bb73c0d0>,\n",
              " <matplotlib.lines.Line2D at 0x7fa4bb73c190>,\n",
              " <matplotlib.lines.Line2D at 0x7fa4bb73c250>,\n",
              " <matplotlib.lines.Line2D at 0x7fa4bb73c310>,\n",
              " <matplotlib.lines.Line2D at 0x7fa4bb73c3d0>,\n",
              " <matplotlib.lines.Line2D at 0x7fa4bb73c430>,\n",
              " <matplotlib.lines.Line2D at 0x7fa4bb73cbb0>,\n",
              " <matplotlib.lines.Line2D at 0x7fa4bb73c880>,\n",
              " <matplotlib.lines.Line2D at 0x7fa4bb73c820>,\n",
              " <matplotlib.lines.Line2D at 0x7fa4bb5f83a0>,\n",
              " <matplotlib.lines.Line2D at 0x7fa4bb5f2970>,\n",
              " <matplotlib.lines.Line2D at 0x7fa4bb6aba90>,\n",
              " <matplotlib.lines.Line2D at 0x7fa4bb6c3550>,\n",
              " <matplotlib.lines.Line2D at 0x7fa4bb6c3fd0>,\n",
              " <matplotlib.lines.Line2D at 0x7fa4bb6cca90>,\n",
              " <matplotlib.lines.Line2D at 0x7fa4bb6d5550>,\n",
              " <matplotlib.lines.Line2D at 0x7fa4bb6d5fd0>]"
            ]
          },
          "metadata": {},
          "execution_count": 33
        },
        {
          "output_type": "display_data",
          "data": {
            "text/plain": [
              "<Figure size 432x288 with 1 Axes>"
            ],
            "image/png": "[encoded data removed]"
          },
          "metadata": {
            "needs_background": "light"
          }
        }
      ]
    },
    {
      "cell_type": "markdown",
      "source": [
        "## Model VGG-19"
      ],
      "metadata": {
        "id": "eZe7_a6-gCww"
      }
    },
    {
      "cell_type": "code",
      "source": [
        "class VGG16(nn.Module):\n",
        "    def __init__(self, num_classes=10):\n",
        "        super(VGG16, self).__init__()\n",
        "        self.layer1 = nn.Sequential(\n",
        "            nn.Conv2d(1, 64, kernel_size=3, stride=1, padding=1),\n",
        "            nn.BatchNorm2d(64),\n",
        "            nn.ReLU())\n",
        "        self.layer2 = nn.Sequential(\n",
        "            nn.Conv2d(64, 64, kernel_size=3, stride=1, padding=1),\n",
        "            nn.BatchNorm2d(64),\n",
        "            nn.ReLU(), \n",
        "            nn.MaxPool2d(kernel_size = 2, stride = 2))\n",
        "        self.layer3 = nn.Sequential(\n",
        "            nn.Conv2d(64, 128, kernel_size=3, stride=1, padding=1),\n",
        "            nn.BatchNorm2d(128),\n",
        "            nn.ReLU())\n",
        "        self.layer4 = nn.Sequential(\n",
        "            nn.Conv2d(128, 128, kernel_size=3, stride=1, padding=1),\n",
        "            nn.BatchNorm2d(128),\n",
        "            nn.ReLU(),\n",
        "            nn.MaxPool2d(kernel_size = 2, stride = 2))\n",
        "        self.layer5 = nn.Sequential(\n",
        "            nn.Conv2d(128, 256, kernel_size=3, stride=1, padding=1),\n",
        "            nn.BatchNorm2d(256),\n",
        "            nn.ReLU())\n",
        "        self.layer6 = nn.Sequential(\n",
        "            nn.Conv2d(256, 256, kernel_size=3, stride=1, padding=1),\n",
        "            nn.BatchNorm2d(256),\n",
        "            nn.ReLU())\n",
        "        self.layer7 = nn.Sequential(\n",
        "            nn.Conv2d(256, 256, kernel_size=3, stride=1, padding=1),\n",
        "            nn.BatchNorm2d(256),\n",
        "            nn.ReLU(),\n",
        "            nn.MaxPool2d(kernel_size = 2, stride = 2))\n",
        "        self.layer8 = nn.Sequential(\n",
        "            nn.Conv2d(256, 512, kernel_size=3, stride=1, padding=1),\n",
        "            nn.BatchNorm2d(512),\n",
        "            nn.ReLU())\n",
        "        self.layer9 = nn.Sequential(\n",
        "            nn.Conv2d(512, 512, kernel_size=3, stride=1, padding=1),\n",
        "            nn.BatchNorm2d(512),\n",
        "            nn.ReLU())\n",
        "        self.layer10 = nn.Sequential(\n",
        "            nn.Conv2d(512, 512, kernel_size=3, stride=1, padding=1),\n",
        "            nn.BatchNorm2d(512),\n",
        "            nn.ReLU(),\n",
        "            nn.MaxPool2d(kernel_size = 2, stride = 2))\n",
        "        self.layer11 = nn.Sequential(\n",
        "            nn.Conv2d(512, 512, kernel_size=3, stride=1, padding=1),\n",
        "            nn.BatchNorm2d(512),\n",
        "            nn.ReLU())\n",
        "        self.layer12 = nn.Sequential(\n",
        "            nn.Conv2d(512, 512, kernel_size=3, stride=1, padding=1),\n",
        "            nn.BatchNorm2d(512),\n",
        "            nn.ReLU())\n",
        "        self.layer13 = nn.Sequential(\n",
        "            nn.Conv2d(512, 512, kernel_size=3, stride=1, padding=1),\n",
        "            nn.BatchNorm2d(512),\n",
        "            nn.ReLU(),\n",
        "            nn.MaxPool2d(kernel_size = 2, stride = 2))\n",
        "        #24576 512,125\n",
        "        self.fc = nn.Sequential(\n",
        "            nn.Dropout(0.5),\n",
        "            nn.Linear(24576, 4096),\n",
        "            nn.ReLU())\n",
        "        self.fc1 = nn.Sequential(\n",
        "            nn.Dropout(0.5),\n",
        "            nn.Linear(4096, 4096),\n",
        "            nn.ReLU())\n",
        "        self.fc2= nn.Sequential(\n",
        "            nn.Linear(4096, num_classes))\n",
        "        \n",
        "    def forward(self, x):\n",
        "        out = self.layer1(x)\n",
        "        out = self.layer2(out)\n",
        "        out = self.layer3(out)\n",
        "        out = self.layer4(out)\n",
        "        out = self.layer5(out)\n",
        "        out = self.layer6(out)\n",
        "        out = self.layer7(out)\n",
        "        out = self.layer8(out)\n",
        "        out = self.layer9(out)\n",
        "        out = self.layer10(out)\n",
        "        out = self.layer11(out)\n",
        "        out = self.layer12(out)\n",
        "        out = self.layer13(out)\n",
        "        out = out.reshape(out.size(0), -1)\n",
        "        #print(out.shape)\n",
        "        out = self.fc(out)\n",
        "        out = self.fc1(out)\n",
        "        out = self.fc2(out)\n",
        "        \n",
        "        return out"
      ],
      "metadata": {
        "id": "qdEg00HngH5-"
      },
      "execution_count": 47,
      "outputs": []
    },
    {
      "cell_type": "code",
      "source": [
        "device = torch.device('cuda' if torch.cuda.is_available() else 'cpu')\n",
        "device\n",
        "#507904"
      ],
      "metadata": {
        "colab": {
          "base_uri": "https://localhost:8080/"
        },
        "id": "l84o6TC6gb17",
        "outputId": "8d82752f-00bf-41af-ed09-d2d9991aeb0f"
      },
      "execution_count": 48,
      "outputs": [
        {
          "output_type": "execute_result",
          "data": {
            "text/plain": [
              "device(type='cuda')"
            ]
          },
          "metadata": {},
          "execution_count": 48
        }
      ]
    },
    {
      "cell_type": "code",
      "source": [
        "num_classes = 3\n",
        "num_epochs = 15\n",
        "learning_rate = 0.005\n",
        "model = None\n",
        "model = VGG16(num_classes).to(device)\n",
        "\n",
        "\n",
        "criterion = nn.CrossEntropyLoss()\n",
        "optimizer = torch.optim.SGD(model.parameters(), lr=learning_rate, weight_decay = 0.005, momentum = 0.9)  \n",
        "\n",
        "\n",
        "# Train the model\n",
        "total_step = len(train_loader)\n"
      ],
      "metadata": {
        "id": "EpgqZfo5gJra"
      },
      "execution_count": 49,
      "outputs": []
    },
    {
      "cell_type": "code",
      "source": [
        "\n",
        "total_step = len(train_loader)\n",
        "\n",
        "for epoch in range(num_epochs):\n",
        "    for i, (images, labels) in enumerate(train_loader):  \n",
        "        labels = labels.type(torch.LongTensor)\n",
        "        images = images.float().unsqueeze(1)\n",
        "        # Move tensors to the configured device\n",
        "        images = images.to(device)\n",
        "        labels = labels.to(device)\n",
        "\n",
        "        # Forward pass\n",
        "        outputs = model(images)\n",
        "        loss = criterion(outputs, labels)\n",
        "        #print(loss)\n",
        "\n",
        "        # Backward and optimize\n",
        "        optimizer.zero_grad()\n",
        "        loss.backward()\n",
        "        optimizer.step()\n",
        "\n",
        "    print ('Epoch [{}/{}], Step [{}/{}], Loss: {:.4f}' \n",
        "                   .format(epoch+1, num_epochs, i+1, total_step, loss.item()))\n",
        "\n",
        "    # Validation\n",
        "    with torch.no_grad():\n",
        "        correct = 0\n",
        "        total = 0\n",
        "        for images, labels in test_loader:\n",
        "            labels = labels.type(torch.LongTensor)\n",
        "            images = images.float().unsqueeze(1)\n",
        "            images = images.to(device)\n",
        "            labels = labels.to(device)\n",
        "            outputs = model(images)\n",
        "            _, predicted = torch.max(outputs.data, 1)\n",
        "            total += labels.size(0)\n",
        "            correct += (predicted == labels).sum().item()\n",
        "            del images, labels, outputs\n",
        "\n",
        "        print('Accuracy of the network on the {} validation images: {} %'.format(5000, 100 * correct / total)) \n",
        "\n",
        "# from google.colab import files\n",
        "# torch.save(model.state_dict(), 'model_vgg.pth')\n",
        "# files.download('model_vgg.pth')\n"
      ],
      "metadata": {
        "colab": {
          "base_uri": "https://localhost:8080/"
        },
        "id": "_F-lj6s5gw__",
        "outputId": "b1ebdbca-553a-4240-fe73-13c8646b91dc"
      },
      "execution_count": 50,
      "outputs": [
        {
          "output_type": "stream",
          "name": "stdout",
          "text": [
            "Epoch [1/15], Step [103/103], Loss: 0.9771\n",
            "Accuracy of the network on the 5000 validation images: 52.19512195121951 %\n",
            "Epoch [2/15], Step [103/103], Loss: 0.5154\n",
            "Accuracy of the network on the 5000 validation images: 60.97560975609756 %\n",
            "Epoch [3/15], Step [103/103], Loss: 0.5234\n",
            "Accuracy of the network on the 5000 validation images: 63.65853658536585 %\n",
            "Epoch [4/15], Step [103/103], Loss: 1.2411\n",
            "Accuracy of the network on the 5000 validation images: 68.78048780487805 %\n",
            "Epoch [5/15], Step [103/103], Loss: 0.5200\n",
            "Accuracy of the network on the 5000 validation images: 68.65853658536585 %\n",
            "Epoch [6/15], Step [103/103], Loss: 0.3209\n",
            "Accuracy of the network on the 5000 validation images: 75.1219512195122 %\n",
            "Epoch [7/15], Step [103/103], Loss: 0.1318\n",
            "Accuracy of the network on the 5000 validation images: 77.8048780487805 %\n",
            "Epoch [8/15], Step [103/103], Loss: 0.3146\n",
            "Accuracy of the network on the 5000 validation images: 78.90243902439025 %\n",
            "Epoch [9/15], Step [103/103], Loss: 0.5722\n",
            "Accuracy of the network on the 5000 validation images: 80.85365853658537 %\n",
            "Epoch [10/15], Step [103/103], Loss: 0.2846\n",
            "Accuracy of the network on the 5000 validation images: 80.85365853658537 %\n",
            "Epoch [11/15], Step [103/103], Loss: 0.4935\n",
            "Accuracy of the network on the 5000 validation images: 85.97560975609755 %\n",
            "Epoch [12/15], Step [103/103], Loss: 0.1231\n",
            "Accuracy of the network on the 5000 validation images: 85.36585365853658 %\n",
            "Epoch [13/15], Step [103/103], Loss: 0.2458\n",
            "Accuracy of the network on the 5000 validation images: 84.51219512195122 %\n",
            "Epoch [14/15], Step [103/103], Loss: 0.3594\n",
            "Accuracy of the network on the 5000 validation images: 86.46341463414635 %\n",
            "Epoch [15/15], Step [103/103], Loss: 0.4129\n",
            "Accuracy of the network on the 5000 validation images: 83.41463414634147 %\n"
          ]
        }
      ]
    },
    {
      "cell_type": "code",
      "source": [
        "from google.colab import files\n",
        "torch.save(model.state_dict(), 'model_vgg_fourier.pth')\n",
        "files.download('model_vgg_fourier.pth')\n"
      ],
      "metadata": {
        "colab": {
          "base_uri": "https://localhost:8080/",
          "height": 34
        },
        "id": "Y_0p4CTWkecy",
        "outputId": "dddc357b-6194-4d69-ed73-69c86030b01c"
      },
      "execution_count": 23,
      "outputs": [
        {
          "output_type": "display_data",
          "data": {
            "text/plain": [
              "<IPython.core.display.Javascript object>"
            ],
            "application/javascript": [
              "\n",
              "    async function download(id, filename, size) {\n",
              "      if (!google.colab.kernel.accessAllowed) {\n",
              "        return;\n",
              "      }\n",
              "      const div = document.createElement('div');\n",
              "      const label = document.createElement('label');\n",
              "      label.textContent = `Downloading \"${filename}\": `;\n",
              "      div.appendChild(label);\n",
              "      const progress = document.createElement('progress');\n",
              "      progress.max = size;\n",
              "      div.appendChild(progress);\n",
              "      document.body.appendChild(div);\n",
              "\n",
              "      const buffers = [];\n",
              "      let downloaded = 0;\n",
              "\n",
              "      const channel = await google.colab.kernel.comms.open(id);\n",
              "      // Send a message to notify the kernel that we're ready.\n",
              "      channel.send({})\n",
              "\n",
              "      for await (const message of channel.messages) {\n",
              "        // Send a message to notify the kernel that we're ready.\n",
              "        channel.send({})\n",
              "        if (message.buffers) {\n",
              "          for (const buffer of message.buffers) {\n",
              "            buffers.push(buffer);\n",
              "            downloaded += buffer.byteLength;\n",
              "            progress.value = downloaded;\n",
              "          }\n",
              "        }\n",
              "      }\n",
              "      const blob = new Blob(buffers, {type: 'application/binary'});\n",
              "      const a = document.createElement('a');\n",
              "      a.href = window.URL.createObjectURL(blob);\n",
              "      a.download = filename;\n",
              "      div.appendChild(a);\n",
              "      a.click();\n",
              "      div.remove();\n",
              "    }\n",
              "  "
            ]
          },
          "metadata": {}
        },
        {
          "output_type": "display_data",
          "data": {
            "text/plain": [
              "<IPython.core.display.Javascript object>"
            ],
            "application/javascript": [
              "download(\"download_fdc78330-b368-482b-9ea9-0984131e678d\", \"model_vgg_fourier.pth\", 629461344)"
            ]
          },
          "metadata": {}
        }
      ]
    },
    {
      "cell_type": "code",
      "source": [
        "wave = VGG16(3).to(device)\n",
        "fourier = VGG16(3).to(device)\n",
        "\n",
        "wave.load_state_dict(torch.load('model_vgg_16_5.pth'))\n",
        "\n",
        "fourier.load_state_dict(torch.load('model_vgg_fourier.pth'))"
      ],
      "metadata": {
        "colab": {
          "base_uri": "https://localhost:8080/",
          "height": 385
        },
        "id": "VGfcUGs8JkdF",
        "outputId": "4cbd019a-2478-47f1-a0bb-96fa7c686c42"
      },
      "execution_count": 51,
      "outputs": [
        {
          "output_type": "error",
          "ename": "RuntimeError",
          "evalue": "ignored",
          "traceback": [
            "\u001b[0;31m---------------------------------------------------------------------------\u001b[0m",
            "\u001b[0;31mRuntimeError\u001b[0m                              Traceback (most recent call last)",
            "\u001b[0;32m<ipython-input-51-e40eb08ad939>\u001b[0m in \u001b[0;36m<module>\u001b[0;34m\u001b[0m\n\u001b[1;32m      2\u001b[0m \u001b[0mfourier\u001b[0m \u001b[0;34m=\u001b[0m \u001b[0mVGG16\u001b[0m\u001b[0;34m(\u001b[0m\u001b[0;36m3\u001b[0m\u001b[0;34m)\u001b[0m\u001b[0;34m.\u001b[0m\u001b[0mto\u001b[0m\u001b[0;34m(\u001b[0m\u001b[0mdevice\u001b[0m\u001b[0;34m)\u001b[0m\u001b[0;34m\u001b[0m\u001b[0;34m\u001b[0m\u001b[0m\n\u001b[1;32m      3\u001b[0m \u001b[0;34m\u001b[0m\u001b[0m\n\u001b[0;32m----> 4\u001b[0;31m \u001b[0mwave\u001b[0m\u001b[0;34m.\u001b[0m\u001b[0mload_state_dict\u001b[0m\u001b[0;34m(\u001b[0m\u001b[0mtorch\u001b[0m\u001b[0;34m.\u001b[0m\u001b[0mload\u001b[0m\u001b[0;34m(\u001b[0m\u001b[0;34m'model_vgg_16_5.pth'\u001b[0m\u001b[0;34m)\u001b[0m\u001b[0;34m)\u001b[0m\u001b[0;34m\u001b[0m\u001b[0;34m\u001b[0m\u001b[0m\n\u001b[0m\u001b[1;32m      5\u001b[0m \u001b[0;34m\u001b[0m\u001b[0m\n\u001b[1;32m      6\u001b[0m \u001b[0mfourier\u001b[0m\u001b[0;34m.\u001b[0m\u001b[0mload_state_dict\u001b[0m\u001b[0;34m(\u001b[0m\u001b[0mtorch\u001b[0m\u001b[0;34m.\u001b[0m\u001b[0mload\u001b[0m\u001b[0;34m(\u001b[0m\u001b[0;34m'model_vgg_fourier.pth'\u001b[0m\u001b[0;34m)\u001b[0m\u001b[0;34m)\u001b[0m\u001b[0;34m\u001b[0m\u001b[0;34m\u001b[0m\u001b[0m\n",
            "\u001b[0;32m/usr/local/lib/python3.8/dist-packages/torch/nn/modules/module.py\u001b[0m in \u001b[0;36mload_state_dict\u001b[0;34m(self, state_dict, strict)\u001b[0m\n\u001b[1;32m   1665\u001b[0m \u001b[0;34m\u001b[0m\u001b[0m\n\u001b[1;32m   1666\u001b[0m         \u001b[0;32mif\u001b[0m \u001b[0mlen\u001b[0m\u001b[0;34m(\u001b[0m\u001b[0merror_msgs\u001b[0m\u001b[0;34m)\u001b[0m \u001b[0;34m>\u001b[0m \u001b[0;36m0\u001b[0m\u001b[0;34m:\u001b[0m\u001b[0;34m\u001b[0m\u001b[0;34m\u001b[0m\u001b[0m\n\u001b[0;32m-> 1667\u001b[0;31m             raise RuntimeError('Error(s) in loading state_dict for {}:\\n\\t{}'.format(\n\u001b[0m\u001b[1;32m   1668\u001b[0m                                self.__class__.__name__, \"\\n\\t\".join(error_msgs)))\n\u001b[1;32m   1669\u001b[0m         \u001b[0;32mreturn\u001b[0m \u001b[0m_IncompatibleKeys\u001b[0m\u001b[0;34m(\u001b[0m\u001b[0mmissing_keys\u001b[0m\u001b[0;34m,\u001b[0m \u001b[0munexpected_keys\u001b[0m\u001b[0;34m)\u001b[0m\u001b[0;34m\u001b[0m\u001b[0;34m\u001b[0m\u001b[0m\n",
            "\u001b[0;31mRuntimeError\u001b[0m: Error(s) in loading state_dict for VGG16:\n\tsize mismatch for fc.1.weight: copying a param with shape torch.Size([4096, 30720]) from checkpoint, the shape in current model is torch.Size([4096, 24576])."
          ]
        }
      ]
    }
  ]
}